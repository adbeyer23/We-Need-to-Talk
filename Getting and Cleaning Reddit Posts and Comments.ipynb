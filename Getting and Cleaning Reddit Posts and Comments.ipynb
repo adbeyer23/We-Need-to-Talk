{
 "cells": [
  {
   "cell_type": "markdown",
   "metadata": {},
   "source": [
    "**Getting Reddit Posts and Comments, and cleaning them:**"
   ]
  },
  {
   "cell_type": "code",
   "execution_count": 2,
   "metadata": {
    "ExecuteTime": {
     "end_time": "2017-07-16T18:09:27.430335Z",
     "start_time": "2017-07-16T18:09:25.611435Z"
    },
    "collapsed": true
   },
   "outputs": [],
   "source": [
    "import json\n",
    "from pymongo import MongoClient\n",
    "import praw\n",
    "import time\n",
    "import pandas as pd\n",
    "pd.set_option('max_colwidth',1000)\n",
    "%matplotlib inline\n",
    "client = MongoClient(port=12345)"
   ]
  },
  {
   "cell_type": "markdown",
   "metadata": {},
   "source": [
    "For the below retrieving and cleaning actions, I completed them in another notebook, and am showing them here for reference. I will just be loading my posts and comments from a pickle file at the end."
   ]
  },
  {
   "cell_type": "code",
   "execution_count": null,
   "metadata": {
    "collapsed": true
   },
   "outputs": [],
   "source": [
    "c = client\n",
    "db = client.reddit\n",
    "depression_comments = db.depression_commments\n",
    "depression_posts = db.depression_posts\n",
    "anxiety_comments = db.anxiety_comments\n",
    "anxiety_posts = db.anxiety_posts\n",
    "suicide_posts = db.suicide_posts\n",
    "suicide_comments = db.suicide_comments"
   ]
  },
  {
   "cell_type": "code",
   "execution_count": null,
   "metadata": {
    "collapsed": true
   },
   "outputs": [],
   "source": [
    "reddit = praw.Reddit(client_id=\"\",username=\"\", password=\"\", client_secret=\"\", user_agent=\"\")\n",
    "post_info = []\n",
    "comments = []\n",
    "\n",
    "#subreddit = reddit.subreddit('anxiety')\n",
    "\n",
    "#a= subreddit.new(limit=5)\n",
    "counter = 0\n",
    "for submission in reddit.subreddit(\"depression\").submissions(1459468800,1460728535):\n",
    "    cs = {}\n",
    "    pi = {}\n",
    "    pi[\"title\"] = submission.title\n",
    "    pi[\"score\"]= submission.score\n",
    "    pi[\"id\"] = submission.id\n",
    "    pi[\"selftext\"] = submission.selftext\n",
    "    pi[\"created\"] = submission.created\n",
    "    pi[\"name\"] = str(submission.author)\n",
    "    cs[\"id\"] = submission.id\n",
    "    submission.comments.replace_more(limit=0)\n",
    "    for z, y in enumerate(submission.comments):\n",
    "        name = \"com{}\".format(z)\n",
    "        cs[name] = y.body\n",
    "    post_info.append(pi)\n",
    "    comments.append(cs)\n",
    "    depression_comments.insert_one(cs)\n",
    "    depression_posts.insert_one(pi)\n",
    "\n",
    "    counter +=1\n",
    "    if counter  % 300 == 0:\n",
    "        print(counter)\n",
    "        time.sleep(90)\n"
   ]
  },
  {
   "cell_type": "code",
   "execution_count": null,
   "metadata": {
    "collapsed": true
   },
   "outputs": [],
   "source": [
    "counter = 0\n",
    "for submission in reddit.subreddit(\"anxiety\").submissions(1459468800,1460728535):\n",
    "    cs = {}\n",
    "    pi = {}\n",
    "    pi[\"title\"] = submission.title\n",
    "    pi[\"score\"]= submission.score\n",
    "    pi[\"id\"] = submission.id\n",
    "    pi[\"selftext\"] = submission.selftext\n",
    "    pi[\"created\"] = submission.created\n",
    "    pi[\"name\"] = str(submission.author)\n",
    "    cs[\"id\"] = submission.id\n",
    "    submission.comments.replace_more(limit=0)\n",
    "    for z, y in enumerate(submission.comments):\n",
    "        name = \"com{}\".format(z)\n",
    "        cs[name] = y.body\n",
    "    post_info.append(pi)\n",
    "    comments.append(cs)\n",
    "    anxiety_comments.insert_one(cs)\n",
    "    anxiety_posts.insert_one(pi)\n",
    "\n",
    "    counter +=1\n",
    "    if counter  % 300 == 0:\n",
    "        print(counter)\n",
    "        time.sleep(90)\n"
   ]
  },
  {
   "cell_type": "code",
   "execution_count": null,
   "metadata": {
    "collapsed": true
   },
   "outputs": [],
   "source": [
    "counter = 0\n",
    "for submission in reddit.subreddit(\"suicidewatch\").submissions(1459468800,1460728535):\n",
    "    cs = {}\n",
    "    pi = {}\n",
    "    pi[\"title\"] = submission.title\n",
    "    pi[\"score\"]= submission.score\n",
    "    pi[\"id\"] = submission.id\n",
    "    pi[\"selftext\"] = submission.selftext\n",
    "    pi[\"created\"] = submission.created\n",
    "    pi[\"name\"] = str(submission.author)\n",
    "    cs[\"id\"] = submission.id\n",
    "    submission.comments.replace_more(limit=0)\n",
    "    for z, y in enumerate(submission.comments):\n",
    "        name = \"com{}\".format(z)\n",
    "        cs[name] = y.body\n",
    "    post_info.append(pi)\n",
    "    comments.append(cs)\n",
    "    suicide_comments.insert_one(cs)\n",
    "    suicide_posts.insert_one(pi)\n",
    "\n",
    "    counter +=1\n",
    "    if counter  % 300 == 0:\n",
    "        print(counter)\n",
    "        time.sleep(90)\n"
   ]
  },
  {
   "cell_type": "code",
   "execution_count": null,
   "metadata": {
    "collapsed": true
   },
   "outputs": [],
   "source": [
    "depression = pd.DataFrame(list(depression_posts.find()))"
   ]
  },
  {
   "cell_type": "code",
   "execution_count": null,
   "metadata": {
    "collapsed": true
   },
   "outputs": [],
   "source": [
    "depression[\"Type\"] = \"depression\""
   ]
  },
  {
   "cell_type": "code",
   "execution_count": null,
   "metadata": {
    "collapsed": true
   },
   "outputs": [],
   "source": [
    "suicide = pd.DataFrame(list(suicide_posts.find()))"
   ]
  },
  {
   "cell_type": "code",
   "execution_count": null,
   "metadata": {
    "collapsed": true
   },
   "outputs": [],
   "source": [
    "suicide[\"Type\"] = \"suicide\""
   ]
  },
  {
   "cell_type": "code",
   "execution_count": null,
   "metadata": {
    "collapsed": true
   },
   "outputs": [],
   "source": [
    "anxiety = pd.DataFrame(list(anxiety_posts.find()))"
   ]
  },
  {
   "cell_type": "code",
   "execution_count": null,
   "metadata": {
    "collapsed": true
   },
   "outputs": [],
   "source": [
    "anxiety[\"Type\"] = \"anxiety\""
   ]
  },
  {
   "cell_type": "code",
   "execution_count": null,
   "metadata": {
    "collapsed": true
   },
   "outputs": [],
   "source": [
    "posts = depression.append([suicide, anxiety], ignore_index=True)"
   ]
  },
  {
   "cell_type": "markdown",
   "metadata": {},
   "source": [
    "Dropping duplicates just in case there were any errors/issues."
   ]
  },
  {
   "cell_type": "code",
   "execution_count": null,
   "metadata": {
    "collapsed": true
   },
   "outputs": [],
   "source": [
    "posts = posts.drop_duplicates(subset=\"id\")"
   ]
  },
  {
   "cell_type": "markdown",
   "metadata": {},
   "source": [
    "I combine the title and the text together as many people use the title as the first sentence of their post."
   ]
  },
  {
   "cell_type": "code",
   "execution_count": null,
   "metadata": {
    "collapsed": true
   },
   "outputs": [],
   "source": [
    "posts[\"total_text\"] = posts[\"title\"] + \" \" + posts[\"selftext\"]"
   ]
  },
  {
   "cell_type": "code",
   "execution_count": null,
   "metadata": {
    "collapsed": true
   },
   "outputs": [],
   "source": [
    "posts[\"split_text\"] = posts[\"total_text\"].apply(lambda x: x.split(\" \"))"
   ]
  },
  {
   "cell_type": "code",
   "execution_count": null,
   "metadata": {
    "collapsed": true
   },
   "outputs": [],
   "source": [
    "posts[\"text_length_simple\"] = posts[\"split_text\"].apply(lambda x: len(x))"
   ]
  },
  {
   "cell_type": "code",
   "execution_count": null,
   "metadata": {
    "collapsed": true
   },
   "outputs": [],
   "source": [
    "posts = posts[posts.text_length_simple > 8]"
   ]
  },
  {
   "cell_type": "code",
   "execution_count": 2,
   "metadata": {
    "ExecuteTime": {
     "end_time": "2017-06-29T10:09:31.469455Z",
     "start_time": "2017-06-29T10:09:26.837806Z"
    },
    "collapsed": true
   },
   "outputs": [],
   "source": [
    "posts = pd.read_pickle(\"posts.pkl\")"
   ]
  },
  {
   "cell_type": "code",
   "execution_count": 3,
   "metadata": {
    "ExecuteTime": {
     "end_time": "2017-06-29T10:09:34.858426Z",
     "start_time": "2017-06-29T10:09:34.835997Z"
    },
    "collapsed": false
   },
   "outputs": [
    {
     "data": {
      "text/plain": [
       "(4313, 12)"
      ]
     },
     "execution_count": 3,
     "metadata": {},
     "output_type": "execute_result"
    }
   ],
   "source": [
    "posts.shape"
   ]
  },
  {
   "cell_type": "code",
   "execution_count": 10,
   "metadata": {
    "ExecuteTime": {
     "end_time": "2017-06-29T10:13:21.076930Z",
     "start_time": "2017-06-29T10:13:20.996197Z"
    },
    "collapsed": false
   },
   "outputs": [
    {
     "data": {
      "text/plain": [
       "suicide       1794\n",
       "depression    1307\n",
       "anxiety       1212\n",
       "Name: Type, dtype: int64"
      ]
     },
     "execution_count": 10,
     "metadata": {},
     "output_type": "execute_result"
    }
   ],
   "source": [
    "posts.Type.value_counts()"
   ]
  },
  {
   "cell_type": "markdown",
   "metadata": {},
   "source": [
    "Differences in type amount came from rate limits and limiting posts under 5 words long. However, it looks like I still have a good representation of all groups."
   ]
  },
  {
   "cell_type": "code",
   "execution_count": 6,
   "metadata": {
    "ExecuteTime": {
     "end_time": "2017-06-29T10:10:18.674541Z",
     "start_time": "2017-06-29T10:10:18.626557Z"
    },
    "collapsed": false
   },
   "outputs": [
    {
     "data": {
      "text/html": [
       "<div>\n",
       "<style>\n",
       "    .dataframe thead tr:only-child th {\n",
       "        text-align: right;\n",
       "    }\n",
       "\n",
       "    .dataframe thead th {\n",
       "        text-align: left;\n",
       "    }\n",
       "\n",
       "    .dataframe tbody tr th {\n",
       "        vertical-align: top;\n",
       "    }\n",
       "</style>\n",
       "<table border=\"1\" class=\"dataframe\">\n",
       "  <thead>\n",
       "    <tr style=\"text-align: right;\">\n",
       "      <th></th>\n",
       "      <th>_id</th>\n",
       "      <th>created</th>\n",
       "      <th>id</th>\n",
       "      <th>name</th>\n",
       "      <th>score</th>\n",
       "      <th>selftext</th>\n",
       "      <th>title</th>\n",
       "      <th>Type</th>\n",
       "      <th>total_text</th>\n",
       "      <th>split_text</th>\n",
       "      <th>text_length_simple</th>\n",
       "      <th>label</th>\n",
       "    </tr>\n",
       "  </thead>\n",
       "  <tbody>\n",
       "    <tr>\n",
       "      <th>0</th>\n",
       "      <td>591dffd6f7327e5f6df05935</td>\n",
       "      <td>1.460275e+09</td>\n",
       "      <td>4e3oc9</td>\n",
       "      <td>Dance_trey_dance</td>\n",
       "      <td>2</td>\n",
       "      <td>Why do I live? Why do I keep fighting? What's the point? Is there any reason for me to stick around?</td>\n",
       "      <td>But why?</td>\n",
       "      <td>depression</td>\n",
       "      <td>But why? Why do I live? Why do I keep fighting? What's the point? Is there any reason for me to stick around?</td>\n",
       "      <td>[But, why?, Why, do, I, live?, Why, do, I, keep, fighting?, What's, the, point?, Is, there, any, reason, for, me, to, stick, around?]</td>\n",
       "      <td>23</td>\n",
       "      <td>2</td>\n",
       "    </tr>\n",
       "    <tr>\n",
       "      <th>1</th>\n",
       "      <td>591dffd6f7327e5f6df05937</td>\n",
       "      <td>1.460275e+09</td>\n",
       "      <td>4e3o7b</td>\n",
       "      <td>EmptyShell11</td>\n",
       "      <td>2</td>\n",
       "      <td>I don't know how I got to this point. Nearly 30 years old with no friends, no love life, no close family relationships and generally no one who would enjoy spending time with me.\\nI emigrated to USA as a young child and always had trouble fitting in. I had a group of friends back in high school but I was always the outcast of the group. My interests never really did match up with theirs and try as I might, I never did feel comfortable with them. I stayed in contact with them throughout college by attending the few lunches or dinners they had once or twice a year. Over time, I have lost touch with all of them. A few friends I did manage to make in university never reach out to me. I tried getting in contact with one of them recently and was flat out ignored. \\nThis brings me to where I am now. I am tired, I am lonely and I just wanted to share my sad pathetic life with everyone on the internet. I don't want to die and I'm not suicidal but I don't want to feel this way anymore. \\nI h...</td>\n",
       "      <td>Just Survive Somehow</td>\n",
       "      <td>depression</td>\n",
       "      <td>Just Survive Somehow I don't know how I got to this point. Nearly 30 years old with no friends, no love life, no close family relationships and generally no one who would enjoy spending time with me.\\nI emigrated to USA as a young child and always had trouble fitting in. I had a group of friends back in high school but I was always the outcast of the group. My interests never really did match up with theirs and try as I might, I never did feel comfortable with them. I stayed in contact with them throughout college by attending the few lunches or dinners they had once or twice a year. Over time, I have lost touch with all of them. A few friends I did manage to make in university never reach out to me. I tried getting in contact with one of them recently and was flat out ignored. \\nThis brings me to where I am now. I am tired, I am lonely and I just wanted to share my sad pathetic life with everyone on the internet. I don't want to die and I'm not suicidal but I don't want to feel th...</td>\n",
       "      <td>[Just, Survive, Somehow, I, don't, know, how, I, got, to, this, point., Nearly, 30, years, old, with, no, friends,, no, love, life,, no, close, family, relationships, and, generally, no, one, who, would, enjoy, spending, time, with, me.\\nI, emigrated, to, USA, as, a, young, child, and, always, had, trouble, fitting, in., I, had, a, group, of, friends, back, in, high, school, but, I, was, always, the, outcast, of, the, group., My, interests, never, really, did, match, up, with, theirs, and, try, as, I, might,, I, never, did, feel, comfortable, with, them., I, stayed, in, contact, with, them, throughout, college, by, attending, ...]</td>\n",
       "      <td>211</td>\n",
       "      <td>1</td>\n",
       "    </tr>\n",
       "    <tr>\n",
       "      <th>2</th>\n",
       "      <td>591dffd7f7327e5f6df05939</td>\n",
       "      <td>1.460275e+09</td>\n",
       "      <td>4e3nmq</td>\n",
       "      <td>-_Vamp_-</td>\n",
       "      <td>10</td>\n",
       "      <td>As a kid I used to draw all the time. I was really good at drawing, at least for my age. Tonight, I felt like drawing after I couldn't fall asleep for hours but... I couldn't think of anything. My head was empty. All I managed to draw were some stupid, ugly low effort doodles. That makes me so sad.</td>\n",
       "      <td>All creativity gone :(</td>\n",
       "      <td>depression</td>\n",
       "      <td>All creativity gone :( As a kid I used to draw all the time. I was really good at drawing, at least for my age. Tonight, I felt like drawing after I couldn't fall asleep for hours but... I couldn't think of anything. My head was empty. All I managed to draw were some stupid, ugly low effort doodles. That makes me so sad.</td>\n",
       "      <td>[All, creativity, gone, :(, As, a, kid, I, used, to, draw, all, the, time., I, was, really, good, at, drawing,, at, least, for, my, age., Tonight,, I, felt, like, drawing, after, I, couldn't, fall, asleep, for, hours, but..., I, couldn't, think, of, anything., My, head, was, empty., All, I, managed, to, draw, were, some, stupid,, ugly, low, effort, doodles., That, makes, me, so, sad.]</td>\n",
       "      <td>64</td>\n",
       "      <td>2</td>\n",
       "    </tr>\n",
       "    <tr>\n",
       "      <th>3</th>\n",
       "      <td>591dffd8f7327e5f6df0593b</td>\n",
       "      <td>1.460274e+09</td>\n",
       "      <td>4e3n9j</td>\n",
       "      <td>Grey_Jacket</td>\n",
       "      <td>2</td>\n",
       "      <td>Every day I crawl out of bed and get ready for school. When I get there I force myself to put on a smile. Everyone I know has their problems and that makes me feel selfish for feeling so out of energy, worn out, useless, an outsider. Every day, week, month, even hour, it’s the same cycle. I try to think today will be better, like I won’t end the night wishing that this will be my last sleep. The little bit of hope soon diminishes to dread towards the day. So many people, so many choices, so many outcomes; and I’m not even a cog in the machine. \\n   I arrive and meet with my friends, I call them friends because I don’t know what else to call people I talk to, people I depend on, people I have to see everyday. I converse with them knowing that I will never be as whole as they are. I feel bad for thinking that their lives are better than mine but from what they’ve shown me the statement stands. I chime in a joke to try to lighten my heavy heart and mind. This slowly turns to them joki...</td>\n",
       "      <td>Rinse and Repeat</td>\n",
       "      <td>depression</td>\n",
       "      <td>Rinse and Repeat Every day I crawl out of bed and get ready for school. When I get there I force myself to put on a smile. Everyone I know has their problems and that makes me feel selfish for feeling so out of energy, worn out, useless, an outsider. Every day, week, month, even hour, it’s the same cycle. I try to think today will be better, like I won’t end the night wishing that this will be my last sleep. The little bit of hope soon diminishes to dread towards the day. So many people, so many choices, so many outcomes; and I’m not even a cog in the machine. \\n   I arrive and meet with my friends, I call them friends because I don’t know what else to call people I talk to, people I depend on, people I have to see everyday. I converse with them knowing that I will never be as whole as they are. I feel bad for thinking that their lives are better than mine but from what they’ve shown me the statement stands. I chime in a joke to try to lighten my heavy heart and mind. This slowly t...</td>\n",
       "      <td>[Rinse, and, Repeat, Every, day, I, crawl, out, of, bed, and, get, ready, for, school., When, I, get, there, I, force, myself, to, put, on, a, smile., Everyone, I, know, has, their, problems, and, that, makes, me, feel, selfish, for, feeling, so, out, of, energy,, worn, out,, useless,, an, outsider., Every, day,, week,, month,, even, hour,, it’s, the, same, cycle., I, try, to, think, today, will, be, better,, like, I, won’t, end, the, night, wishing, that, this, will, be, my, last, sleep., The, little, bit, of, hope, soon, diminishes, to, dread, towards, the, day., So, many, people,, so, many, choices,, ...]</td>\n",
       "      <td>1074</td>\n",
       "      <td>0</td>\n",
       "    </tr>\n",
       "    <tr>\n",
       "      <th>4</th>\n",
       "      <td>591dffd9f7327e5f6df0593d</td>\n",
       "      <td>1.460274e+09</td>\n",
       "      <td>4e3llb</td>\n",
       "      <td>BigTenDepressed</td>\n",
       "      <td>5</td>\n",
       "      <td>I'm a 20 year old college freshman (don't ask about the age thing. I had to take a year off for physical health) at a Big Ten school (for those who don't know, it's a conference of large state universities, mostly in the Midwest US). I've had nothing to do and no one to do anything with, and I was diagnosed with depression earlier this semester. The last two nights I've drank alone in my dorm room because everyone else was out having fun, at date parties. It honestly makes me feel better for a bit, but I'm worried that I'm going to have a problem. Before this, I drank no more than 1-2 times per month, only heavily 2-3 times per year. I don't know what to do.</td>\n",
       "      <td>Drinking alone in my dorm room.</td>\n",
       "      <td>depression</td>\n",
       "      <td>Drinking alone in my dorm room. I'm a 20 year old college freshman (don't ask about the age thing. I had to take a year off for physical health) at a Big Ten school (for those who don't know, it's a conference of large state universities, mostly in the Midwest US). I've had nothing to do and no one to do anything with, and I was diagnosed with depression earlier this semester. The last two nights I've drank alone in my dorm room because everyone else was out having fun, at date parties. It honestly makes me feel better for a bit, but I'm worried that I'm going to have a problem. Before this, I drank no more than 1-2 times per month, only heavily 2-3 times per year. I don't know what to do.</td>\n",
       "      <td>[Drinking, alone, in, my, dorm, room., I'm, a, 20, year, old, college, freshman, (don't, ask, about, the, age, thing., I, had, to, take, a, year, off, for, physical, health), at, a, Big, Ten, school, (for, those, who, don't, know,, it's, a, conference, of, large, state, universities,, mostly, in, the, Midwest, US)., I've, had, nothing, to, do, and, no, one, to, do, anything, with,, and, I, was, diagnosed, with, depression, earlier, this, semester., The, last, two, nights, I've, drank, alone, in, my, dorm, room, because, everyone, else, was, out, having, fun,, at, date, parties., It, honestly, makes, me, feel, better, for, ...]</td>\n",
       "      <td>135</td>\n",
       "      <td>3</td>\n",
       "    </tr>\n",
       "  </tbody>\n",
       "</table>\n",
       "</div>"
      ],
      "text/plain": [
       "                        _id       created      id              name  score  \\\n",
       "0  591dffd6f7327e5f6df05935  1.460275e+09  4e3oc9  Dance_trey_dance      2   \n",
       "1  591dffd6f7327e5f6df05937  1.460275e+09  4e3o7b      EmptyShell11      2   \n",
       "2  591dffd7f7327e5f6df05939  1.460275e+09  4e3nmq          -_Vamp_-     10   \n",
       "3  591dffd8f7327e5f6df0593b  1.460274e+09  4e3n9j       Grey_Jacket      2   \n",
       "4  591dffd9f7327e5f6df0593d  1.460274e+09  4e3llb   BigTenDepressed      5   \n",
       "\n",
       "                                                                                                                                                                                                                                                                                                                                                                                                                                                                                                                                                                                                                                                                                                                                                                                                                                                                                                                                                                                                                                  selftext  \\\n",
       "0                                                                                                                                                                                                                                                                                                                                                                                                                                                                                                                                                                                                                                                                                                                                                                                                                                                                                                                                     Why do I live? Why do I keep fighting? What's the point? Is there any reason for me to stick around?   \n",
       "1  I don't know how I got to this point. Nearly 30 years old with no friends, no love life, no close family relationships and generally no one who would enjoy spending time with me.\\nI emigrated to USA as a young child and always had trouble fitting in. I had a group of friends back in high school but I was always the outcast of the group. My interests never really did match up with theirs and try as I might, I never did feel comfortable with them. I stayed in contact with them throughout college by attending the few lunches or dinners they had once or twice a year. Over time, I have lost touch with all of them. A few friends I did manage to make in university never reach out to me. I tried getting in contact with one of them recently and was flat out ignored. \\nThis brings me to where I am now. I am tired, I am lonely and I just wanted to share my sad pathetic life with everyone on the internet. I don't want to die and I'm not suicidal but I don't want to feel this way anymore. \\nI h...   \n",
       "2                                                                                                                                                                                                                                                                                                                                                                                                                                                                                                                                                                                                                                                                                                                              As a kid I used to draw all the time. I was really good at drawing, at least for my age. Tonight, I felt like drawing after I couldn't fall asleep for hours but... I couldn't think of anything. My head was empty. All I managed to draw were some stupid, ugly low effort doodles. That makes me so sad.   \n",
       "3  Every day I crawl out of bed and get ready for school. When I get there I force myself to put on a smile. Everyone I know has their problems and that makes me feel selfish for feeling so out of energy, worn out, useless, an outsider. Every day, week, month, even hour, it’s the same cycle. I try to think today will be better, like I won’t end the night wishing that this will be my last sleep. The little bit of hope soon diminishes to dread towards the day. So many people, so many choices, so many outcomes; and I’m not even a cog in the machine. \\n   I arrive and meet with my friends, I call them friends because I don’t know what else to call people I talk to, people I depend on, people I have to see everyday. I converse with them knowing that I will never be as whole as they are. I feel bad for thinking that their lives are better than mine but from what they’ve shown me the statement stands. I chime in a joke to try to lighten my heavy heart and mind. This slowly turns to them joki...   \n",
       "4                                                                                                                                                                                                                                                                                                                                               I'm a 20 year old college freshman (don't ask about the age thing. I had to take a year off for physical health) at a Big Ten school (for those who don't know, it's a conference of large state universities, mostly in the Midwest US). I've had nothing to do and no one to do anything with, and I was diagnosed with depression earlier this semester. The last two nights I've drank alone in my dorm room because everyone else was out having fun, at date parties. It honestly makes me feel better for a bit, but I'm worried that I'm going to have a problem. Before this, I drank no more than 1-2 times per month, only heavily 2-3 times per year. I don't know what to do.   \n",
       "\n",
       "                             title        Type  \\\n",
       "0                         But why?  depression   \n",
       "1             Just Survive Somehow  depression   \n",
       "2           All creativity gone :(  depression   \n",
       "3                 Rinse and Repeat  depression   \n",
       "4  Drinking alone in my dorm room.  depression   \n",
       "\n",
       "                                                                                                                                                                                                                                                                                                                                                                                                                                                                                                                                                                                                                                                                                                                                                                                                                                                                                                                                                                                                                                total_text  \\\n",
       "0                                                                                                                                                                                                                                                                                                                                                                                                                                                                                                                                                                                                                                                                                                                                                                                                                                                                                                                            But why? Why do I live? Why do I keep fighting? What's the point? Is there any reason for me to stick around?   \n",
       "1  Just Survive Somehow I don't know how I got to this point. Nearly 30 years old with no friends, no love life, no close family relationships and generally no one who would enjoy spending time with me.\\nI emigrated to USA as a young child and always had trouble fitting in. I had a group of friends back in high school but I was always the outcast of the group. My interests never really did match up with theirs and try as I might, I never did feel comfortable with them. I stayed in contact with them throughout college by attending the few lunches or dinners they had once or twice a year. Over time, I have lost touch with all of them. A few friends I did manage to make in university never reach out to me. I tried getting in contact with one of them recently and was flat out ignored. \\nThis brings me to where I am now. I am tired, I am lonely and I just wanted to share my sad pathetic life with everyone on the internet. I don't want to die and I'm not suicidal but I don't want to feel th...   \n",
       "2                                                                                                                                                                                                                                                                                                                                                                                                                                                                                                                                                                                                                                                                                                       All creativity gone :( As a kid I used to draw all the time. I was really good at drawing, at least for my age. Tonight, I felt like drawing after I couldn't fall asleep for hours but... I couldn't think of anything. My head was empty. All I managed to draw were some stupid, ugly low effort doodles. That makes me so sad.   \n",
       "3  Rinse and Repeat Every day I crawl out of bed and get ready for school. When I get there I force myself to put on a smile. Everyone I know has their problems and that makes me feel selfish for feeling so out of energy, worn out, useless, an outsider. Every day, week, month, even hour, it’s the same cycle. I try to think today will be better, like I won’t end the night wishing that this will be my last sleep. The little bit of hope soon diminishes to dread towards the day. So many people, so many choices, so many outcomes; and I’m not even a cog in the machine. \\n   I arrive and meet with my friends, I call them friends because I don’t know what else to call people I talk to, people I depend on, people I have to see everyday. I converse with them knowing that I will never be as whole as they are. I feel bad for thinking that their lives are better than mine but from what they’ve shown me the statement stands. I chime in a joke to try to lighten my heavy heart and mind. This slowly t...   \n",
       "4                                                                                                                                                                                                                                                                                                               Drinking alone in my dorm room. I'm a 20 year old college freshman (don't ask about the age thing. I had to take a year off for physical health) at a Big Ten school (for those who don't know, it's a conference of large state universities, mostly in the Midwest US). I've had nothing to do and no one to do anything with, and I was diagnosed with depression earlier this semester. The last two nights I've drank alone in my dorm room because everyone else was out having fun, at date parties. It honestly makes me feel better for a bit, but I'm worried that I'm going to have a problem. Before this, I drank no more than 1-2 times per month, only heavily 2-3 times per year. I don't know what to do.   \n",
       "\n",
       "                                                                                                                                                                                                                                                                                                                                                                                                                                                                                                                                                                                                                                                       split_text  \\\n",
       "0                                                                                                                                                                                                                                                                                                                                                                                                                                                                                                                           [But, why?, Why, do, I, live?, Why, do, I, keep, fighting?, What's, the, point?, Is, there, any, reason, for, me, to, stick, around?]   \n",
       "1  [Just, Survive, Somehow, I, don't, know, how, I, got, to, this, point., Nearly, 30, years, old, with, no, friends,, no, love, life,, no, close, family, relationships, and, generally, no, one, who, would, enjoy, spending, time, with, me.\\nI, emigrated, to, USA, as, a, young, child, and, always, had, trouble, fitting, in., I, had, a, group, of, friends, back, in, high, school, but, I, was, always, the, outcast, of, the, group., My, interests, never, really, did, match, up, with, theirs, and, try, as, I, might,, I, never, did, feel, comfortable, with, them., I, stayed, in, contact, with, them, throughout, college, by, attending, ...]   \n",
       "2                                                                                                                                                                                                                                                             [All, creativity, gone, :(, As, a, kid, I, used, to, draw, all, the, time., I, was, really, good, at, drawing,, at, least, for, my, age., Tonight,, I, felt, like, drawing, after, I, couldn't, fall, asleep, for, hours, but..., I, couldn't, think, of, anything., My, head, was, empty., All, I, managed, to, draw, were, some, stupid,, ugly, low, effort, doodles., That, makes, me, so, sad.]   \n",
       "3                         [Rinse, and, Repeat, Every, day, I, crawl, out, of, bed, and, get, ready, for, school., When, I, get, there, I, force, myself, to, put, on, a, smile., Everyone, I, know, has, their, problems, and, that, makes, me, feel, selfish, for, feeling, so, out, of, energy,, worn, out,, useless,, an, outsider., Every, day,, week,, month,, even, hour,, it’s, the, same, cycle., I, try, to, think, today, will, be, better,, like, I, won’t, end, the, night, wishing, that, this, will, be, my, last, sleep., The, little, bit, of, hope, soon, diminishes, to, dread, towards, the, day., So, many, people,, so, many, choices,, ...]   \n",
       "4      [Drinking, alone, in, my, dorm, room., I'm, a, 20, year, old, college, freshman, (don't, ask, about, the, age, thing., I, had, to, take, a, year, off, for, physical, health), at, a, Big, Ten, school, (for, those, who, don't, know,, it's, a, conference, of, large, state, universities,, mostly, in, the, Midwest, US)., I've, had, nothing, to, do, and, no, one, to, do, anything, with,, and, I, was, diagnosed, with, depression, earlier, this, semester., The, last, two, nights, I've, drank, alone, in, my, dorm, room, because, everyone, else, was, out, having, fun,, at, date, parties., It, honestly, makes, me, feel, better, for, ...]   \n",
       "\n",
       "   text_length_simple  label  \n",
       "0                  23      2  \n",
       "1                 211      1  \n",
       "2                  64      2  \n",
       "3                1074      0  \n",
       "4                 135      3  "
      ]
     },
     "execution_count": 6,
     "metadata": {},
     "output_type": "execute_result"
    }
   ],
   "source": [
    "posts.head()"
   ]
  },
  {
   "cell_type": "code",
   "execution_count": 9,
   "metadata": {
    "ExecuteTime": {
     "end_time": "2017-06-29T10:11:14.869685Z",
     "start_time": "2017-06-29T10:11:14.827969Z"
    },
    "collapsed": false
   },
   "outputs": [
    {
     "data": {
      "text/plain": [
       "484                                                                                                                                                                                                                                                                                                                                                                                                                                                                                                                                                                                                                                                                                                   I can't get out of my head I have depression/anxiety disorder as well as panic disorder paired with agoraphobia. I often get stuck in my head. I appear to be okay, but I'm really suffering from a panic attack in my head... my thoughts sutter... I can't get past certain things... everything races... Please tell me I'm not alone.\n",
       "804                                                                                                                                                                                                                                                                                                                                                                                                                                                                                                                                                                                                                                     I know I have to find something to keep my mind off things but I just.....don't Either things don't interest me enough to just start doing them or it's too much of a hassle or there are reasons why I don't want to do it (I've been looking at Aikido but I'm to afraid I might hurt myself doing those rolls for example). Every time I hear about someone's hobbies I realize how empty my life is\n",
       "100     My life is just one big joke. Depression has been something I have had for about 2 years now. This has just been hell. I look back at my entire life and all I see is wasted time. I have so many regrets and now I'm so damn lonely. I have always found it extremely difficult to interact and socialize with other people. The very few friends I've had in my life had abandoned me. I ask myself, \"why?\". I love making people laugh, I love putting a smile on their face, and I feel that I'm pretty good at it too. I've been such a kind person my entire life. Why did the vast majority of my friends leave me? Why do people judge and avoid me? Depression is like a disease and every time you think it's over, it just kicks you back down even harder than before. I keep telling myself, \"I have the rest of my life to fix this\", every day this hope to achieve true happiness, to one day fit into society, to one day have friends who won't leave me or betray me. After a while I tried suppressing all these...\n",
       "737     Missed Opportunities All my life I've been a worrywort and an over-thinker. I'm a 20 y/o male and I've had \\n\\none girlfriend, we lasted about 3 months before she broke up with me (probably \\n\\nbecause I was taking things too slow tbh). Looking back to my middle and \\n\\nhigh-school years I realize all the countless missed opportunities I've had to have \\n\\ngreat relationships. Of course, I was always to afraid to do what I wanted, I was too \\n\\nintroverted to really care that much about people then anyway. Later in high school I \\n\\nwas in a car crash that left me with a torn ligament in my hip and a herniated disc. I \\n\\ndidn't even realize I was injured until several people noticed I had a slight limp. Just \\n\\na few months ago I was injured again at the chiropractor during an adjustment. I \\n\\nthink it had something to do with my back or my hip being out of the place but I just \\n\\nremember hearing a popping sound in my head. A doctor's visit later confirmed I \\n\\nhad pulled a m...\n",
       "3833                                                                                                                                                                                                                                                                                                                                                                                                                                                                                                                                                                                                                                                                                                                                                                                                                                                                                                                                                        English Cricketer Sarah Taylor speaks about her Break from the Game Due to Anxiety \n",
       "Name: total_text, dtype: object"
      ]
     },
     "execution_count": 9,
     "metadata": {},
     "output_type": "execute_result"
    }
   ],
   "source": [
    "posts.sample(5)[\"total_text\"]"
   ]
  },
  {
   "cell_type": "markdown",
   "metadata": {},
   "source": [
    "Topics appear to be all over the map"
   ]
  },
  {
   "cell_type": "code",
   "execution_count": 15,
   "metadata": {
    "ExecuteTime": {
     "end_time": "2017-06-29T10:16:58.137642Z",
     "start_time": "2017-06-29T10:16:57.766335Z"
    },
    "collapsed": false
   },
   "outputs": [
    {
     "data": {
      "text/plain": [
       "<matplotlib.axes._subplots.AxesSubplot at 0x1126e2eb8>"
      ]
     },
     "execution_count": 15,
     "metadata": {},
     "output_type": "execute_result"
    },
    {
     "data": {
      "image/png": "[encoded data removed]",
      "text/plain": [
       "<matplotlib.figure.Figure at 0x112a6f3c8>"
      ]
     },
     "metadata": {},
     "output_type": "display_data"
    }
   ],
   "source": [
    "posts.text_length_simple.hist(bins=20)"
   ]
  },
  {
   "cell_type": "markdown",
   "metadata": {},
   "source": [
    "Mosts posts are relatievely short...under 500 words. However, there are some longer ones."
   ]
  },
  {
   "cell_type": "code",
   "execution_count": 16,
   "metadata": {
    "ExecuteTime": {
     "end_time": "2017-06-29T10:18:10.922688Z",
     "start_time": "2017-06-29T10:18:10.876729Z"
    },
    "collapsed": false
   },
   "outputs": [
    {
     "data": {
      "text/plain": [
       "3034    A short story I wrote about the cycle of Depression and Anxiety Sensible\\n\\n\\nShe woke up with a full bladder, remembering a dream just had where she had wet herself in public. The same urge woke her up frequently, and wondered if this was just life now. Throwing off the covers she went to the bathroom nearly tripping over the cat on the way.\\n\\n8am. Her phone said it was 8am. Why the hell am I awake at 8am’ she wondered? It was her weekend; those were the days she was allowed to sleep late. Just another thing she would have to get used to, along with spotting a few new wrinkles on her face earlier in the week and the constant pain in various body parts, I guess it was inevitable, getting older. \\n\\nIt was cold in her tiny flat, so she went back to bed and nestled back in the warm space she had created over night.\\n\\nWhat shall I do today, she pondered, writing a list in her head of all the things needed to be done.  It was a full days work and it would pay to be prepared. Organisa...\n",
       "Name: total_text, dtype: object"
      ]
     },
     "execution_count": 16,
     "metadata": {},
     "output_type": "execute_result"
    }
   ],
   "source": [
    "posts[posts.text_length_simple > 1500].sample(1)[\"total_text\"]"
   ]
  },
  {
   "cell_type": "code",
   "execution_count": 19,
   "metadata": {
    "ExecuteTime": {
     "end_time": "2017-06-29T10:21:30.032358Z",
     "start_time": "2017-06-29T10:21:29.955953Z"
    },
    "collapsed": false
   },
   "outputs": [
    {
     "data": {
      "text/plain": [
       "3392                                                                                                                                                                                                                                                                                                                                                                                                                                                                                                                                                                                                                                                                                                                                                                                                                                                                                                                                              After fighting years of having a crippling fear of heights I climbed MT. Fuji today! [image] \n",
       "75      My ex texted me \"I don't give a fuck even if you die\" So there we were arguing who fucked up the relationship, she'd never agree that it was her fault. I'd always apologize even if I was wrong. I refused to apologize and it all fucked up. She knew I had depression when we were in relationship. I told her I feel depressed and she said \"There's no such thing as depression\"\\n\\nAnyway, she found out from out our common friend that I visited my doctor to get help and will begin medication soon. So at the end of the chat,I told her I'm not okay and she is making me feel even more bad, she should just leave me alone, so she dropped the bomb and said \"I don't give a fuck even if you die\"\\n\\nI stopped texting her after that. I was already having suicidal thoughts, but since now she wants me to die, I fucking won't. Fuck you.. I'll outlive you , you stupid piece of shit.\\n\\nEDIT: Just came home and saw your replies. I'm overwhelmed seeing your responses. In the process of opening up and shar...\n",
       "3341                                                                                                                                                                                                                                                                                                                                                                                                                                                                                                                                                                                                                                                                                                                                                                                                                                                                                                                                                                                        My tattoo; a little serotonin for when I'm lacking \n",
       "2806                                                                                                                                                                                                                                                                                                                                                                                                                                                                                                                                                                                           Hi, I did it I was the girl that threw up when she got too nervous, and went into the school restrooms to eat lunch my sophomore and junior year of high school. I bailed on orientation for 2 jobs because I was too nervous. I finally followed thorough with this one, and I worked my first shift today at Wing Stop as a cashier, an ultimately extroverted position where I have to actually *yell* orders. But, I did it, guys. I did it.\n",
       "2239                                                                                                                                                                                                                                                                                                                                                                                                                                                                                                                                                                                                                                                                                                                                                                                                                                                                                                                                                                   Kristen Bell Explains There Is No Shame In Feeling Anxiety & Depression \n",
       "Name: total_text, dtype: object"
      ]
     },
     "execution_count": 19,
     "metadata": {},
     "output_type": "execute_result"
    }
   ],
   "source": [
    "posts.sort_values(\"score\", ascending=False).head()[\"total_text\"]"
   ]
  },
  {
   "cell_type": "markdown",
   "metadata": {},
   "source": [
    "Looks like most of the higher score posts are uplifting/overcoming obstacles type posts."
   ]
  },
  {
   "cell_type": "markdown",
   "metadata": {
    "collapsed": true
   },
   "source": [
    "**Now lets look at the comments:**"
   ]
  },
  {
   "cell_type": "markdown",
   "metadata": {},
   "source": [
    "First, let's combine the comments from each of the three subreddits into one dataframe:"
   ]
  },
  {
   "cell_type": "code",
   "execution_count": null,
   "metadata": {
    "collapsed": true
   },
   "outputs": [],
   "source": [
    "depressioncom = pd.DataFrame(list(depression_comments.find()))\n",
    "depressioncom[\"type\"] = \"depression\""
   ]
  },
  {
   "cell_type": "code",
   "execution_count": null,
   "metadata": {
    "collapsed": true
   },
   "outputs": [],
   "source": [
    "anxietycom = pd.DataFrame(list(anxiety_comments.find()))\n",
    "anxietycom[\"type\"] = \"anxiety\""
   ]
  },
  {
   "cell_type": "code",
   "execution_count": null,
   "metadata": {
    "collapsed": true
   },
   "outputs": [],
   "source": [
    "suicidecom = pd.DataFrame(list(suicide_comments.find()))\n",
    "suicidecom[\"type\"] = \"suicide\""
   ]
  },
  {
   "cell_type": "code",
   "execution_count": null,
   "metadata": {
    "collapsed": true
   },
   "outputs": [],
   "source": [
    "totalcomments = pd.concat([depressioncom, anxietycom, suicidecom])\n",
    "totalcomments= totalcomments.drop_duplicates(subset=\"id\")\n"
   ]
  },
  {
   "cell_type": "code",
   "execution_count": null,
   "metadata": {
    "collapsed": true
   },
   "outputs": [],
   "source": [
    "totalcomments.shape\n",
    "#(4393,111) -the largest number of columns are for the posts that have a lot of comments \n",
    "#most of those files will be NaNs."
   ]
  },
  {
   "cell_type": "markdown",
   "metadata": {},
   "source": [
    "Now, lets combine all the comments per post into one column (makes it easier to do topic modelling)."
   ]
  },
  {
   "cell_type": "code",
   "execution_count": null,
   "metadata": {
    "collapsed": true
   },
   "outputs": [],
   "source": [
    "totalcomments[\"total_comments\"] = totalcomments[totalcomments.columns[1: -3]].apply(lambda row: ' '.join(map(str, row)), axis=1)"
   ]
  },
  {
   "cell_type": "markdown",
   "metadata": {},
   "source": [
    "Here I am going to remove any NaNs that got into the total_comments section:"
   ]
  },
  {
   "cell_type": "code",
   "execution_count": null,
   "metadata": {
    "collapsed": true
   },
   "outputs": [],
   "source": [
    "totalcomments[\"total_comments\"] = totalcomments[\"total_comments\"].apply(lambda x: x.replace(\"nan\", \"\"))"
   ]
  },
  {
   "cell_type": "markdown",
   "metadata": {},
   "source": [
    "Now lets label rows as NaN if any of the total comments is less than 5 words:"
   ]
  },
  {
   "cell_type": "code",
   "execution_count": null,
   "metadata": {
    "collapsed": true
   },
   "outputs": [],
   "source": [
    "def strip_NaN(row):\n",
    "    row = row.strip()\n",
    "    if len(row) < 5:\n",
    "        row = np.NaN\n",
    "    return row"
   ]
  },
  {
   "cell_type": "code",
   "execution_count": null,
   "metadata": {
    "collapsed": true
   },
   "outputs": [],
   "source": [
    "totalcomments.total_comments = totalcomments.total_comments.apply(lambda x: strip_NaN(x))"
   ]
  },
  {
   "cell_type": "code",
   "execution_count": 4,
   "metadata": {
    "ExecuteTime": {
     "end_time": "2017-07-16T18:09:35.119787Z",
     "start_time": "2017-07-16T18:09:33.127924Z"
    },
    "collapsed": false
   },
   "outputs": [],
   "source": [
    "totalcomments = pd.read_pickle(\"comments.pkl\")"
   ]
  },
  {
   "cell_type": "code",
   "execution_count": 6,
   "metadata": {
    "ExecuteTime": {
     "end_time": "2017-07-16T18:10:27.596430Z",
     "start_time": "2017-07-16T18:10:27.554462Z"
    },
    "collapsed": false
   },
   "outputs": [
    {
     "data": {
      "text/html": [
       "<div>\n",
       "<style>\n",
       "    .dataframe thead tr:only-child th {\n",
       "        text-align: right;\n",
       "    }\n",
       "\n",
       "    .dataframe thead th {\n",
       "        text-align: left;\n",
       "    }\n",
       "\n",
       "    .dataframe tbody tr th {\n",
       "        vertical-align: top;\n",
       "    }\n",
       "</style>\n",
       "<table border=\"1\" class=\"dataframe\">\n",
       "  <thead>\n",
       "    <tr style=\"text-align: right;\">\n",
       "      <th></th>\n",
       "      <th>_id</th>\n",
       "      <th>com0</th>\n",
       "      <th>com1</th>\n",
       "      <th>com10</th>\n",
       "      <th>com100</th>\n",
       "      <th>com101</th>\n",
       "      <th>com102</th>\n",
       "      <th>com103</th>\n",
       "      <th>com104</th>\n",
       "      <th>com105</th>\n",
       "      <th>...</th>\n",
       "      <th>com93</th>\n",
       "      <th>com94</th>\n",
       "      <th>com95</th>\n",
       "      <th>com96</th>\n",
       "      <th>com97</th>\n",
       "      <th>com98</th>\n",
       "      <th>com99</th>\n",
       "      <th>id</th>\n",
       "      <th>type</th>\n",
       "      <th>total_comments</th>\n",
       "    </tr>\n",
       "  </thead>\n",
       "  <tbody>\n",
       "    <tr>\n",
       "      <th>0</th>\n",
       "      <td>591dffd5f7327e5f6df05934</td>\n",
       "      <td>That's all up to you, my friend. You can choose to end your story now or you can choose to keep going and see what comes next. We have to come up with our own reasons to stick around. As for me, I stick around partly because I'm stubborn and refuse to let the depression win and I have some people who love me who would be totally devastated. I reply to people on here so I can feel like I have a purpose when I encourage others and show a little love and care.</td>\n",
       "      <td>No.  And me neither.  We stick around because killing ourselves is hard and we feel bad because it feels like throwing in the towel.  And because we have hope that it will get better.  But what does that mean?  Will we get friends?  Will we have a life we want to come home to?  In my case, no.</td>\n",
       "      <td>NaN</td>\n",
       "      <td>NaN</td>\n",
       "      <td>NaN</td>\n",
       "      <td>NaN</td>\n",
       "      <td>NaN</td>\n",
       "      <td>NaN</td>\n",
       "      <td>NaN</td>\n",
       "      <td>...</td>\n",
       "      <td>NaN</td>\n",
       "      <td>NaN</td>\n",
       "      <td>NaN</td>\n",
       "      <td>NaN</td>\n",
       "      <td>NaN</td>\n",
       "      <td>NaN</td>\n",
       "      <td>NaN</td>\n",
       "      <td>4e3oc9</td>\n",
       "      <td>depression</td>\n",
       "      <td>That's all up to you, my friend. You can choose to end your story now or you can choose to keep going and see what comes next. We have to come up with our own reasons to stick around. As for me, I stick around partly because I'm stubborn and refuse to let the depression win and I have some people who love me who would be totally devastated. I reply to people on here so I can feel like I have a purpose when I encourage others and show a little love and care. No.  And me neither.  We stick around because killing ourselves is hard and we feel bad because it feels like throwing in the towel.  And because we have hope that it will get better.  But what does that mean?  Will we get friends?  Will we have a life we want to come home to?  In my case, no.</td>\n",
       "    </tr>\n",
       "    <tr>\n",
       "      <th>1</th>\n",
       "      <td>591dffd6f7327e5f6df05936</td>\n",
       "      <td>What are your interests?</td>\n",
       "      <td>Hang in there. Many feel like you. It is much harder to maintain and build friendships outside of high school and college. Everyone seems so self absorbed or not interested in new friendships. It's especially hard for people who aren't naturally outgoing.  Don't be so hard on yourself. You took the time to put yourself out here. Hopefully we can provide you support and encouragement. I understand you feeling tired and lonely. You are not alone here. Hang in there</td>\n",
       "      <td>NaN</td>\n",
       "      <td>NaN</td>\n",
       "      <td>NaN</td>\n",
       "      <td>NaN</td>\n",
       "      <td>NaN</td>\n",
       "      <td>NaN</td>\n",
       "      <td>NaN</td>\n",
       "      <td>...</td>\n",
       "      <td>NaN</td>\n",
       "      <td>NaN</td>\n",
       "      <td>NaN</td>\n",
       "      <td>NaN</td>\n",
       "      <td>NaN</td>\n",
       "      <td>NaN</td>\n",
       "      <td>NaN</td>\n",
       "      <td>4e3o7b</td>\n",
       "      <td>depression</td>\n",
       "      <td>What are your interests? Hang in there. Many feel like you. It is much harder to maintain and build friendships outside of high school and college. Everyone seems so self absorbed or not interested in new friendships. It's especially hard for people who aren't naturally outgoing.  Don't be so hard on yourself. You took the time to put yourself out here. Hopefully we can provide you support and encouragement. I understand you feeling tired and lonely. You are not alone here. Hang in there</td>\n",
       "    </tr>\n",
       "  </tbody>\n",
       "</table>\n",
       "<p>2 rows × 112 columns</p>\n",
       "</div>"
      ],
      "text/plain": [
       "                        _id  \\\n",
       "0  591dffd5f7327e5f6df05934   \n",
       "1  591dffd6f7327e5f6df05936   \n",
       "\n",
       "                                                                                                                                                                                                                                                                                                                                                                                                                                                                            com0  \\\n",
       "0  That's all up to you, my friend. You can choose to end your story now or you can choose to keep going and see what comes next. We have to come up with our own reasons to stick around. As for me, I stick around partly because I'm stubborn and refuse to let the depression win and I have some people who love me who would be totally devastated. I reply to people on here so I can feel like I have a purpose when I encourage others and show a little love and care.   \n",
       "1                                                                                                                                                                                                                                                                                                                                                                                                                                                       What are your interests?   \n",
       "\n",
       "                                                                                                                                                                                                                                                                                                                                                                                                                                                                                  com1  \\\n",
       "0                                                                                                                                                                               No.  And me neither.  We stick around because killing ourselves is hard and we feel bad because it feels like throwing in the towel.  And because we have hope that it will get better.  But what does that mean?  Will we get friends?  Will we have a life we want to come home to?  In my case, no.   \n",
       "1  Hang in there. Many feel like you. It is much harder to maintain and build friendships outside of high school and college. Everyone seems so self absorbed or not interested in new friendships. It's especially hard for people who aren't naturally outgoing.  Don't be so hard on yourself. You took the time to put yourself out here. Hopefully we can provide you support and encouragement. I understand you feeling tired and lonely. You are not alone here. Hang in there   \n",
       "\n",
       "  com10 com100 com101 com102 com103 com104 com105  \\\n",
       "0   NaN    NaN    NaN    NaN    NaN    NaN    NaN   \n",
       "1   NaN    NaN    NaN    NaN    NaN    NaN    NaN   \n",
       "\n",
       "                                                                                                                                                                                                                                                                                                                                                                                           ...                                                                                                                                                                                                                                                                                                                                                                                           \\\n",
       "0                                                                                                                                                                                                                                                                                                                                                                                          ...                                                                                                                                                                                                                                                                                                                                                                                            \n",
       "1                                                                                                                                                                                                                                                                                                                                                                                          ...                                                                                                                                                                                                                                                                                                                                                                                            \n",
       "\n",
       "  com93 com94 com95 com96 com97 com98 com99      id        type  \\\n",
       "0   NaN   NaN   NaN   NaN   NaN   NaN   NaN  4e3oc9  depression   \n",
       "1   NaN   NaN   NaN   NaN   NaN   NaN   NaN  4e3o7b  depression   \n",
       "\n",
       "                                                                                                                                                                                                                                                                                                                                                                                                                                                                                                                                                                                                                                                                                                                                                                         total_comments  \n",
       "0  That's all up to you, my friend. You can choose to end your story now or you can choose to keep going and see what comes next. We have to come up with our own reasons to stick around. As for me, I stick around partly because I'm stubborn and refuse to let the depression win and I have some people who love me who would be totally devastated. I reply to people on here so I can feel like I have a purpose when I encourage others and show a little love and care. No.  And me neither.  We stick around because killing ourselves is hard and we feel bad because it feels like throwing in the towel.  And because we have hope that it will get better.  But what does that mean?  Will we get friends?  Will we have a life we want to come home to?  In my case, no.  \n",
       "1                                                                                                                                                                                                                                                                          What are your interests? Hang in there. Many feel like you. It is much harder to maintain and build friendships outside of high school and college. Everyone seems so self absorbed or not interested in new friendships. It's especially hard for people who aren't naturally outgoing.  Don't be so hard on yourself. You took the time to put yourself out here. Hopefully we can provide you support and encouragement. I understand you feeling tired and lonely. You are not alone here. Hang in there  \n",
       "\n",
       "[2 rows x 112 columns]"
      ]
     },
     "execution_count": 6,
     "metadata": {},
     "output_type": "execute_result"
    }
   ],
   "source": [
    "totalcomments.head(2)"
   ]
  }
 ],
 "metadata": {
  "kernelspec": {
   "display_name": "Python [conda root]",
   "language": "python",
   "name": "conda-root-py"
  },
  "language_info": {
   "codemirror_mode": {
    "name": "ipython",
    "version": 3
   },
   "file_extension": ".py",
   "mimetype": "text/x-python",
   "name": "python",
   "nbconvert_exporter": "python",
   "pygments_lexer": "ipython3",
   "version": "3.5.2"
  }
 },
 "nbformat": 4,
 "nbformat_minor": 2
}
