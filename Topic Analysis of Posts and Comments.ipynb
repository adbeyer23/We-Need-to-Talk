{
 "cells": [
  {
   "cell_type": "markdown",
   "metadata": {},
   "source": [
    "**In this notebook I will be doing topic modelling on both the posts and comments.**"
   ]
  },
  {
   "cell_type": "code",
   "execution_count": 1,
   "metadata": {
    "ExecuteTime": {
     "end_time": "2017-07-15T23:48:02.050781Z",
     "start_time": "2017-07-15T23:47:58.755195Z"
    },
    "collapsed": true
   },
   "outputs": [],
   "source": [
    "import pandas as pd\n",
    "pd.set_option('max_colwidth',1000)\n",
    "%matplotlib inline\n",
    "import re\n",
    "import string\n",
    "from nltk.tokenize import word_tokenize\n",
    "from nltk.stem import SnowballStemmer\n",
    "from nltk.stem.wordnet import WordNetLemmatizer\n",
    "from nltk.corpus import wordnet\n",
    "from nltk import pos_tag\n",
    "from sklearn.feature_extraction.text import CountVectorizer,TfidfVectorizer\n",
    "from sklearn.decomposition import LatentDirichletAllocation, NMF\n",
    "from nltk.corpus import stopwords"
   ]
  },
  {
   "cell_type": "markdown",
   "metadata": {},
   "source": [
    "Let's first make some functions to remove non-useful words or items in the post that are not words."
   ]
  },
  {
   "cell_type": "code",
   "execution_count": 2,
   "metadata": {
    "ExecuteTime": {
     "end_time": "2017-07-15T23:48:03.447712Z",
     "start_time": "2017-07-15T23:48:03.439054Z"
    },
    "collapsed": false
   },
   "outputs": [],
   "source": [
    "stopwords_remove = [\"anxiety\", \"suicide\", \"suicidal\", \"depression\", \"ive\", \"im\" \"depressed\", \"www\", \"reddit\", \"anxious\", \"depression\" ]\n",
    "stopwords = stopwords.words(\"english\")  + stopwords_remove\n"
   ]
  },
  {
   "cell_type": "markdown",
   "metadata": {},
   "source": [
    "Lot's of these stopwords that I have added come from trial and error, looking at words that I don't want to be in the topics. I removed words like \"anxiety\" or \"suicide\" because I didn't want topics to cluster around types of illnesses, but just on how Reddit talks about mental health in general."
   ]
  },
  {
   "cell_type": "code",
   "execution_count": 3,
   "metadata": {
    "ExecuteTime": {
     "end_time": "2017-07-15T23:48:05.500422Z",
     "start_time": "2017-07-15T23:48:05.479584Z"
    },
    "collapsed": true
   },
   "outputs": [],
   "source": [
    "def text_cleaner_and_stemmer(row):\n",
    "    if type(row) != str :\n",
    "        row = row.decode('utf-8')\n",
    "    row = re.sub('http[s]?://(?:[a-zA-Z]|[0-9]|[$-_@.&+]|[!*\\(\\),]|(?:%[0-9a-fA-F][0-9a-fA-F]))+',' ', row)\n",
    "    regex = re.compile('[%s]' % re.escape(string.punctuation))\n",
    "    row = regex.sub('', row)\n",
    "    row = word_tokenize(row)\n",
    "    lemmatizer = WordNetLemmatizer()\n",
    "    lemmatizer_fun = lambda x: lemmatizer.lemmatize(x, get_wordnet_pos(x))\n",
    "    \n",
    "    lemmatizer_fun_outer = lambda x: list(map(lemmatizer_fun, x))\n",
    "    return generalize_fun(row, lemmatizer_fun_outer)\n",
    "\n",
    "def generalize_fun(corpus, lambda_fun):\n",
    "# must handle a list of lists (tokenized docs) and also a simple list\n",
    "\n",
    "    if isinstance(corpus[0], list):\n",
    "        # list of lists\n",
    "        corpus = map(lambda_fun, corpus)\n",
    "    else:\n",
    "        # single list\n",
    "        corpus = lambda_fun(corpus)\n",
    "\n",
    "    return list(corpus)\n",
    "\n",
    "    \n",
    "        "
   ]
  },
  {
   "cell_type": "code",
   "execution_count": 4,
   "metadata": {
    "ExecuteTime": {
     "end_time": "2017-07-15T23:48:06.527994Z",
     "start_time": "2017-07-15T23:48:06.514785Z"
    },
    "collapsed": true
   },
   "outputs": [],
   "source": [
    "def get_wordnet_pos(row):\n",
    "    \"\"\"Convert the part-of-speech naming scheme\n",
    "       from the nltk default to that which is\n",
    "       recognized by the WordNet lemmatizer\"\"\"\n",
    "    treebank_tag = pos_tag([row])\n",
    "    if treebank_tag[0][1].startswith('J'):\n",
    "        return wordnet.ADJ\n",
    "        print(treebank_tag)\n",
    "    elif treebank_tag[0][1].startswith('V'):\n",
    "        return wordnet.VERB\n",
    "\n",
    "    elif treebank_tag[0][1].startswith('N'):\n",
    "        return wordnet.NOUN\n",
    "\n",
    "    elif treebank_tag[0][1].startswith('R'):\n",
    "        return wordnet.ADV\n",
    "    else:\n",
    "        return wordnet.NOUN"
   ]
  },
  {
   "cell_type": "code",
   "execution_count": 6,
   "metadata": {
    "ExecuteTime": {
     "end_time": "2017-07-15T13:02:41.546665Z",
     "start_time": "2017-07-15T13:02:37.927649Z"
    },
    "collapsed": false
   },
   "outputs": [],
   "source": [
    "posts = pd.read_pickle(\"posts.pkl\")"
   ]
  },
  {
   "cell_type": "code",
   "execution_count": 10,
   "metadata": {
    "ExecuteTime": {
     "end_time": "2017-07-15T14:48:21.913633Z",
     "start_time": "2017-07-15T14:48:21.691665Z"
    },
    "collapsed": false
   },
   "outputs": [
    {
     "data": {
      "text/html": [
       "<div>\n",
       "<style>\n",
       "    .dataframe thead tr:only-child th {\n",
       "        text-align: right;\n",
       "    }\n",
       "\n",
       "    .dataframe thead th {\n",
       "        text-align: left;\n",
       "    }\n",
       "\n",
       "    .dataframe tbody tr th {\n",
       "        vertical-align: top;\n",
       "    }\n",
       "</style>\n",
       "<table border=\"1\" class=\"dataframe\">\n",
       "  <thead>\n",
       "    <tr style=\"text-align: right;\">\n",
       "      <th></th>\n",
       "      <th>_id</th>\n",
       "      <th>created</th>\n",
       "      <th>id</th>\n",
       "      <th>name</th>\n",
       "      <th>score</th>\n",
       "      <th>selftext</th>\n",
       "      <th>title</th>\n",
       "      <th>Type</th>\n",
       "      <th>total_text</th>\n",
       "      <th>split_text</th>\n",
       "      <th>text_length_simple</th>\n",
       "      <th>label</th>\n",
       "    </tr>\n",
       "  </thead>\n",
       "  <tbody>\n",
       "    <tr>\n",
       "      <th>0</th>\n",
       "      <td>591dffd6f7327e5f6df05935</td>\n",
       "      <td>1.460275e+09</td>\n",
       "      <td>4e3oc9</td>\n",
       "      <td>Dance_trey_dance</td>\n",
       "      <td>2</td>\n",
       "      <td>Why do I live? Why do I keep fighting? What's the point? Is there any reason for me to stick around?</td>\n",
       "      <td>But why?</td>\n",
       "      <td>depression</td>\n",
       "      <td>But why? Why do I live? Why do I keep fighting? What's the point? Is there any reason for me to stick around?</td>\n",
       "      <td>[But, why?, Why, do, I, live?, Why, do, I, keep, fighting?, What's, the, point?, Is, there, any, reason, for, me, to, stick, around?]</td>\n",
       "      <td>23</td>\n",
       "      <td>2</td>\n",
       "    </tr>\n",
       "    <tr>\n",
       "      <th>1</th>\n",
       "      <td>591dffd6f7327e5f6df05937</td>\n",
       "      <td>1.460275e+09</td>\n",
       "      <td>4e3o7b</td>\n",
       "      <td>EmptyShell11</td>\n",
       "      <td>2</td>\n",
       "      <td>I don't know how I got to this point. Nearly 30 years old with no friends, no love life, no close family relationships and generally no one who would enjoy spending time with me.\\nI emigrated to USA as a young child and always had trouble fitting in. I had a group of friends back in high school but I was always the outcast of the group. My interests never really did match up with theirs and try as I might, I never did feel comfortable with them. I stayed in contact with them throughout college by attending the few lunches or dinners they had once or twice a year. Over time, I have lost touch with all of them. A few friends I did manage to make in university never reach out to me. I tried getting in contact with one of them recently and was flat out ignored. \\nThis brings me to where I am now. I am tired, I am lonely and I just wanted to share my sad pathetic life with everyone on the internet. I don't want to die and I'm not suicidal but I don't want to feel this way anymore. \\nI h...</td>\n",
       "      <td>Just Survive Somehow</td>\n",
       "      <td>depression</td>\n",
       "      <td>Just Survive Somehow I don't know how I got to this point. Nearly 30 years old with no friends, no love life, no close family relationships and generally no one who would enjoy spending time with me.\\nI emigrated to USA as a young child and always had trouble fitting in. I had a group of friends back in high school but I was always the outcast of the group. My interests never really did match up with theirs and try as I might, I never did feel comfortable with them. I stayed in contact with them throughout college by attending the few lunches or dinners they had once or twice a year. Over time, I have lost touch with all of them. A few friends I did manage to make in university never reach out to me. I tried getting in contact with one of them recently and was flat out ignored. \\nThis brings me to where I am now. I am tired, I am lonely and I just wanted to share my sad pathetic life with everyone on the internet. I don't want to die and I'm not suicidal but I don't want to feel th...</td>\n",
       "      <td>[Just, Survive, Somehow, I, don't, know, how, I, got, to, this, point., Nearly, 30, years, old, with, no, friends,, no, love, life,, no, close, family, relationships, and, generally, no, one, who, would, enjoy, spending, time, with, me.\\nI, emigrated, to, USA, as, a, young, child, and, always, had, trouble, fitting, in., I, had, a, group, of, friends, back, in, high, school, but, I, was, always, the, outcast, of, the, group., My, interests, never, really, did, match, up, with, theirs, and, try, as, I, might,, I, never, did, feel, comfortable, with, them., I, stayed, in, contact, with, them, throughout, college, by, attending, ...]</td>\n",
       "      <td>211</td>\n",
       "      <td>1</td>\n",
       "    </tr>\n",
       "  </tbody>\n",
       "</table>\n",
       "</div>"
      ],
      "text/plain": [
       "                        _id       created      id              name  score  \\\n",
       "0  591dffd6f7327e5f6df05935  1.460275e+09  4e3oc9  Dance_trey_dance      2   \n",
       "1  591dffd6f7327e5f6df05937  1.460275e+09  4e3o7b      EmptyShell11      2   \n",
       "\n",
       "                                                                                                                                                                                                                                                                                                                                                                                                                                                                                                                                                                                                                                                                                                                                                                                                                                                                                                                                                                                                                                  selftext  \\\n",
       "0                                                                                                                                                                                                                                                                                                                                                                                                                                                                                                                                                                                                                                                                                                                                                                                                                                                                                                                                     Why do I live? Why do I keep fighting? What's the point? Is there any reason for me to stick around?   \n",
       "1  I don't know how I got to this point. Nearly 30 years old with no friends, no love life, no close family relationships and generally no one who would enjoy spending time with me.\\nI emigrated to USA as a young child and always had trouble fitting in. I had a group of friends back in high school but I was always the outcast of the group. My interests never really did match up with theirs and try as I might, I never did feel comfortable with them. I stayed in contact with them throughout college by attending the few lunches or dinners they had once or twice a year. Over time, I have lost touch with all of them. A few friends I did manage to make in university never reach out to me. I tried getting in contact with one of them recently and was flat out ignored. \\nThis brings me to where I am now. I am tired, I am lonely and I just wanted to share my sad pathetic life with everyone on the internet. I don't want to die and I'm not suicidal but I don't want to feel this way anymore. \\nI h...   \n",
       "\n",
       "                  title        Type  \\\n",
       "0              But why?  depression   \n",
       "1  Just Survive Somehow  depression   \n",
       "\n",
       "                                                                                                                                                                                                                                                                                                                                                                                                                                                                                                                                                                                                                                                                                                                                                                                                                                                                                                                                                                                                                                total_text  \\\n",
       "0                                                                                                                                                                                                                                                                                                                                                                                                                                                                                                                                                                                                                                                                                                                                                                                                                                                                                                                            But why? Why do I live? Why do I keep fighting? What's the point? Is there any reason for me to stick around?   \n",
       "1  Just Survive Somehow I don't know how I got to this point. Nearly 30 years old with no friends, no love life, no close family relationships and generally no one who would enjoy spending time with me.\\nI emigrated to USA as a young child and always had trouble fitting in. I had a group of friends back in high school but I was always the outcast of the group. My interests never really did match up with theirs and try as I might, I never did feel comfortable with them. I stayed in contact with them throughout college by attending the few lunches or dinners they had once or twice a year. Over time, I have lost touch with all of them. A few friends I did manage to make in university never reach out to me. I tried getting in contact with one of them recently and was flat out ignored. \\nThis brings me to where I am now. I am tired, I am lonely and I just wanted to share my sad pathetic life with everyone on the internet. I don't want to die and I'm not suicidal but I don't want to feel th...   \n",
       "\n",
       "                                                                                                                                                                                                                                                                                                                                                                                                                                                                                                                                                                                                                                                       split_text  \\\n",
       "0                                                                                                                                                                                                                                                                                                                                                                                                                                                                                                                           [But, why?, Why, do, I, live?, Why, do, I, keep, fighting?, What's, the, point?, Is, there, any, reason, for, me, to, stick, around?]   \n",
       "1  [Just, Survive, Somehow, I, don't, know, how, I, got, to, this, point., Nearly, 30, years, old, with, no, friends,, no, love, life,, no, close, family, relationships, and, generally, no, one, who, would, enjoy, spending, time, with, me.\\nI, emigrated, to, USA, as, a, young, child, and, always, had, trouble, fitting, in., I, had, a, group, of, friends, back, in, high, school, but, I, was, always, the, outcast, of, the, group., My, interests, never, really, did, match, up, with, theirs, and, try, as, I, might,, I, never, did, feel, comfortable, with, them., I, stayed, in, contact, with, them, throughout, college, by, attending, ...]   \n",
       "\n",
       "   text_length_simple  label  \n",
       "0                  23      2  \n",
       "1                 211      1  "
      ]
     },
     "execution_count": 10,
     "metadata": {},
     "output_type": "execute_result"
    }
   ],
   "source": [
    "posts.head(2)"
   ]
  },
  {
   "cell_type": "markdown",
   "metadata": {},
   "source": [
    "I used both Count Vectorizer and TFIDF Vectorizer along wiht NMF and LDA. I tried a lot of diffrent ngram ranges and number of topics. Below are some examples. For my project/presentation I ended up using TFIDF vectorizer and NMF for posts and count vectorizer and NMF for the commnets. I also ended up using unigrams, bigrams and trigrams for posts and unigrams and bigrams for the comments. I ended up with 5 topics for posts and 4 for comments."
   ]
  },
  {
   "cell_type": "code",
   "execution_count": 5,
   "metadata": {
    "ExecuteTime": {
     "end_time": "2017-07-15T23:48:16.003749Z",
     "start_time": "2017-07-15T23:48:15.997224Z"
    },
    "collapsed": true
   },
   "outputs": [],
   "source": [
    "CV = CountVectorizer(ngram_range=((1,2)),  \n",
    "                                   stop_words=stopwords, \n",
    "                                   analyzer = \"word\",\n",
    "                                   tokenizer = text_cleaner_and_stemmer,\n",
    "                                   token_pattern=\"\\\\b[a-z][a-z]+\\\\b\",\n",
    "                                   min_df=30, max_df=.95,\n",
    "                                   lowercase=True)\n",
    "\n",
    "TV = TfidfVectorizer(ngram_range=(1, 3), \n",
    "                    stop_words=stopwords, \n",
    "                    tokenizer = text_cleaner_and_stemmer,\n",
    "                    token_pattern=\"\\\\b[a-z][a-z]+\\\\b\", min_df=40, max_df=.95)"
   ]
  },
  {
   "cell_type": "code",
   "execution_count": 16,
   "metadata": {
    "ExecuteTime": {
     "end_time": "2017-07-15T15:01:12.431643Z",
     "start_time": "2017-07-15T14:58:10.359786Z"
    },
    "collapsed": true
   },
   "outputs": [],
   "source": [
    "X = CV.fit_transform(posts.total_text)"
   ]
  },
  {
   "cell_type": "code",
   "execution_count": 18,
   "metadata": {
    "ExecuteTime": {
     "end_time": "2017-07-15T15:06:16.251911Z",
     "start_time": "2017-07-15T15:01:19.157949Z"
    },
    "collapsed": false
   },
   "outputs": [],
   "source": [
    "X1 = TV.fit_transform(posts.total_text)"
   ]
  },
  {
   "cell_type": "code",
   "execution_count": 20,
   "metadata": {
    "ExecuteTime": {
     "end_time": "2017-07-15T15:07:37.579281Z",
     "start_time": "2017-07-15T15:07:37.561771Z"
    },
    "collapsed": true
   },
   "outputs": [],
   "source": [
    "lda = LatentDirichletAllocation(n_topics=3, max_iter=20)\n"
   ]
  },
  {
   "cell_type": "code",
   "execution_count": 21,
   "metadata": {
    "ExecuteTime": {
     "end_time": "2017-07-15T15:07:38.148545Z",
     "start_time": "2017-07-15T15:07:38.138838Z"
    },
    "collapsed": true
   },
   "outputs": [],
   "source": [
    "nmf = NMF(n_components = 5, max_iter=50)"
   ]
  },
  {
   "cell_type": "code",
   "execution_count": 22,
   "metadata": {
    "ExecuteTime": {
     "end_time": "2017-07-15T15:08:40.914937Z",
     "start_time": "2017-07-15T15:07:38.874537Z"
    },
    "collapsed": false
   },
   "outputs": [
    {
     "name": "stderr",
     "output_type": "stream",
     "text": [
      "//anaconda/lib/python3.5/site-packages/sklearn/decomposition/online_lda.py:508: DeprecationWarning: The default value for 'learning_method' will be changed from 'online' to 'batch' in the release 0.20. This warning was introduced in 0.18.\n",
      "  DeprecationWarning)\n"
     ]
    },
    {
     "data": {
      "text/plain": [
       "LatentDirichletAllocation(batch_size=128, doc_topic_prior=None,\n",
       "             evaluate_every=-1, learning_decay=0.7, learning_method=None,\n",
       "             learning_offset=10.0, max_doc_update_iter=100, max_iter=20,\n",
       "             mean_change_tol=0.001, n_jobs=1, n_topics=3, perp_tol=0.1,\n",
       "             random_state=None, topic_word_prior=None,\n",
       "             total_samples=1000000.0, verbose=0)"
      ]
     },
     "execution_count": 22,
     "metadata": {},
     "output_type": "execute_result"
    }
   ],
   "source": [
    "lda.fit(X)"
   ]
  },
  {
   "cell_type": "code",
   "execution_count": 23,
   "metadata": {
    "ExecuteTime": {
     "end_time": "2017-07-15T15:08:41.894434Z",
     "start_time": "2017-07-15T15:08:40.924474Z"
    },
    "collapsed": false
   },
   "outputs": [
    {
     "data": {
      "text/plain": [
       "NMF(alpha=0.0, beta=1, eta=0.1, init=None, l1_ratio=0.0, max_iter=50,\n",
       "  n_components=5, nls_max_iter=2000, random_state=None, shuffle=False,\n",
       "  solver='cd', sparseness=None, tol=0.0001, verbose=0)"
      ]
     },
     "execution_count": 23,
     "metadata": {},
     "output_type": "execute_result"
    }
   ],
   "source": [
    "nmf.fit(X1)"
   ]
  },
  {
   "cell_type": "markdown",
   "metadata": {},
   "source": [
    "This below function will print out the top words for each topic in an easily readable way."
   ]
  },
  {
   "cell_type": "code",
   "execution_count": 19,
   "metadata": {
    "ExecuteTime": {
     "end_time": "2017-07-16T00:17:06.326994Z",
     "start_time": "2017-07-16T00:17:06.304676Z"
    },
    "collapsed": true
   },
   "outputs": [],
   "source": [
    "def print_topic_top_words(model, cv, n_top_words=10):\n",
    "    feature_names = cv.get_feature_names()\n",
    "    \n",
    "    for topic_vec in enumerate(model.components_):\n",
    "        topic_num = topic_vec[0]\n",
    "        topic_words = topic_vec[1]\n",
    "        \n",
    "        print('Topic {}:'.format(topic_num + 1))\n",
    "        \n",
    "        topic_values = sorted(zip(topic_words, feature_names), \n",
    "                              reverse=True)[:n_top_words]\n",
    "    \n",
    "        print(' '.join([y for x,y in topic_values]))\n",
    "        # pprint(topic_values)\n",
    "        \n",
    "    return"
   ]
  },
  {
   "cell_type": "code",
   "execution_count": 27,
   "metadata": {
    "ExecuteTime": {
     "end_time": "2017-07-15T15:09:25.603069Z",
     "start_time": "2017-07-15T15:09:25.360601Z"
    },
    "collapsed": false
   },
   "outputs": [
    {
     "name": "stdout",
     "output_type": "stream",
     "text": [
      "Topic 1:\n",
      "feel im like get think feel like go anyone thought know really attack dont panic bad something thing time cant else\n",
      "Topic 2:\n",
      "im dont want like feel get know life go people friend make even cant time thing think try one really\n",
      "Topic 3:\n",
      "go get take im work year time day help week start month back last really one job make first well\n"
     ]
    }
   ],
   "source": [
    "n_top_words = 20\n",
    "\n",
    "print_topic_top_words(lda, CV, n_top_words)"
   ]
  },
  {
   "cell_type": "code",
   "execution_count": 28,
   "metadata": {
    "ExecuteTime": {
     "end_time": "2017-07-15T15:09:26.279182Z",
     "start_time": "2017-07-15T15:09:25.895581Z"
    },
    "collapsed": false
   },
   "outputs": [
    {
     "name": "stdout",
     "output_type": "stream",
     "text": [
      "Topic 1:\n",
      "life friend people want get make one thing would say talk never time year even love go know try think\n",
      "Topic 2:\n",
      "take get work go day week start doctor time sleep im month medication back year help night job anyone last\n",
      "Topic 3:\n",
      "feel like feel like like im feel like im anyone else make something anyone else make feel really normal sometimes dont feel way thought feel way always head\n",
      "Topic 4:\n",
      "im dont know dont know want cant fuck go dont want anymore think scar im go know im anything die tire really even think im\n",
      "Topic 5:\n",
      "attack panic panic attack help breathing calm heart felt symptom get go happen something trigger thought fear first bad body disorder\n"
     ]
    }
   ],
   "source": [
    "print_topic_top_words(nmf, TV, n_top_words)"
   ]
  },
  {
   "cell_type": "markdown",
   "metadata": {
    "collapsed": true
   },
   "source": [
    "Topic 1: Seems to have a lot to do with relating and issues with people.\n",
    "\n",
    "Topic 2: Seems to have to do with medicine/doctors, but also a lot of temporal words be used (like people are telling a story).\n",
    "\n",
    "Topic 3: Seems to have to do with relating (with uses of words like anyone) and feeling.\n",
    "\n",
    "Topic 4: Seems to be pretty dismal. People not thinking they can move on, not feeling like they can do anything.\n",
    "\n",
    "Topic 5: Seems to focus a lot on panic attacks, and symptoms for things.\n",
    "\n",
    "Overall, I see a lot of describing their issues, look for similarity, talking about doctors and medication, and general describing how they feel."
   ]
  },
  {
   "cell_type": "markdown",
   "metadata": {},
   "source": [
    "**Now onto the comments.**"
   ]
  },
  {
   "cell_type": "code",
   "execution_count": 6,
   "metadata": {
    "ExecuteTime": {
     "end_time": "2017-07-15T23:49:16.711834Z",
     "start_time": "2017-07-15T23:49:15.786776Z"
    },
    "collapsed": true
   },
   "outputs": [],
   "source": [
    "comments = pd.read_pickle(\"comments.pkl\")"
   ]
  },
  {
   "cell_type": "markdown",
   "metadata": {},
   "source": [
    "All comments were combined into one field for topic modelling."
   ]
  },
  {
   "cell_type": "code",
   "execution_count": 8,
   "metadata": {
    "ExecuteTime": {
     "end_time": "2017-07-15T23:52:26.370944Z",
     "start_time": "2017-07-15T23:52:26.272765Z"
    },
    "collapsed": false
   },
   "outputs": [
    {
     "data": {
      "text/html": [
       "<div>\n",
       "<style>\n",
       "    .dataframe thead tr:only-child th {\n",
       "        text-align: right;\n",
       "    }\n",
       "\n",
       "    .dataframe thead th {\n",
       "        text-align: left;\n",
       "    }\n",
       "\n",
       "    .dataframe tbody tr th {\n",
       "        vertical-align: top;\n",
       "    }\n",
       "</style>\n",
       "<table border=\"1\" class=\"dataframe\">\n",
       "  <thead>\n",
       "    <tr style=\"text-align: right;\">\n",
       "      <th></th>\n",
       "      <th>_id</th>\n",
       "      <th>com0</th>\n",
       "      <th>com1</th>\n",
       "      <th>com10</th>\n",
       "      <th>com100</th>\n",
       "      <th>com101</th>\n",
       "      <th>com102</th>\n",
       "      <th>com103</th>\n",
       "      <th>com104</th>\n",
       "      <th>com105</th>\n",
       "      <th>...</th>\n",
       "      <th>com93</th>\n",
       "      <th>com94</th>\n",
       "      <th>com95</th>\n",
       "      <th>com96</th>\n",
       "      <th>com97</th>\n",
       "      <th>com98</th>\n",
       "      <th>com99</th>\n",
       "      <th>id</th>\n",
       "      <th>type</th>\n",
       "      <th>total_comments</th>\n",
       "    </tr>\n",
       "  </thead>\n",
       "  <tbody>\n",
       "    <tr>\n",
       "      <th>0</th>\n",
       "      <td>591dffd5f7327e5f6df05934</td>\n",
       "      <td>That's all up to you, my friend. You can choose to end your story now or you can choose to keep going and see what comes next. We have to come up with our own reasons to stick around. As for me, I stick around partly because I'm stubborn and refuse to let the depression win and I have some people who love me who would be totally devastated. I reply to people on here so I can feel like I have a purpose when I encourage others and show a little love and care.</td>\n",
       "      <td>No.  And me neither.  We stick around because killing ourselves is hard and we feel bad because it feels like throwing in the towel.  And because we have hope that it will get better.  But what does that mean?  Will we get friends?  Will we have a life we want to come home to?  In my case, no.</td>\n",
       "      <td>NaN</td>\n",
       "      <td>NaN</td>\n",
       "      <td>NaN</td>\n",
       "      <td>NaN</td>\n",
       "      <td>NaN</td>\n",
       "      <td>NaN</td>\n",
       "      <td>NaN</td>\n",
       "      <td>...</td>\n",
       "      <td>NaN</td>\n",
       "      <td>NaN</td>\n",
       "      <td>NaN</td>\n",
       "      <td>NaN</td>\n",
       "      <td>NaN</td>\n",
       "      <td>NaN</td>\n",
       "      <td>NaN</td>\n",
       "      <td>4e3oc9</td>\n",
       "      <td>depression</td>\n",
       "      <td>That's all up to you, my friend. You can choose to end your story now or you can choose to keep going and see what comes next. We have to come up with our own reasons to stick around. As for me, I stick around partly because I'm stubborn and refuse to let the depression win and I have some people who love me who would be totally devastated. I reply to people on here so I can feel like I have a purpose when I encourage others and show a little love and care. No.  And me neither.  We stick around because killing ourselves is hard and we feel bad because it feels like throwing in the towel.  And because we have hope that it will get better.  But what does that mean?  Will we get friends?  Will we have a life we want to come home to?  In my case, no.</td>\n",
       "    </tr>\n",
       "    <tr>\n",
       "      <th>1</th>\n",
       "      <td>591dffd6f7327e5f6df05936</td>\n",
       "      <td>What are your interests?</td>\n",
       "      <td>Hang in there. Many feel like you. It is much harder to maintain and build friendships outside of high school and college. Everyone seems so self absorbed or not interested in new friendships. It's especially hard for people who aren't naturally outgoing.  Don't be so hard on yourself. You took the time to put yourself out here. Hopefully we can provide you support and encouragement. I understand you feeling tired and lonely. You are not alone here. Hang in there</td>\n",
       "      <td>NaN</td>\n",
       "      <td>NaN</td>\n",
       "      <td>NaN</td>\n",
       "      <td>NaN</td>\n",
       "      <td>NaN</td>\n",
       "      <td>NaN</td>\n",
       "      <td>NaN</td>\n",
       "      <td>...</td>\n",
       "      <td>NaN</td>\n",
       "      <td>NaN</td>\n",
       "      <td>NaN</td>\n",
       "      <td>NaN</td>\n",
       "      <td>NaN</td>\n",
       "      <td>NaN</td>\n",
       "      <td>NaN</td>\n",
       "      <td>4e3o7b</td>\n",
       "      <td>depression</td>\n",
       "      <td>What are your interests? Hang in there. Many feel like you. It is much harder to maintain and build friendships outside of high school and college. Everyone seems so self absorbed or not interested in new friendships. It's especially hard for people who aren't naturally outgoing.  Don't be so hard on yourself. You took the time to put yourself out here. Hopefully we can provide you support and encouragement. I understand you feeling tired and lonely. You are not alone here. Hang in there</td>\n",
       "    </tr>\n",
       "    <tr>\n",
       "      <th>2</th>\n",
       "      <td>591dffd7f7327e5f6df05938</td>\n",
       "      <td>keep trying.Your link with your creativity has weakened so you need to kick on it constantly to get it back. Dont feel down if you your drawings are shit in the beginning,once you get in the flow you will be connected back to your creativity :)</td>\n",
       "      <td>As some others have said, keep trying. Grab a pen and make it go places on paper. Watch a movie or browse through deviantArt to gain some inspiration.</td>\n",
       "      <td>NaN</td>\n",
       "      <td>NaN</td>\n",
       "      <td>NaN</td>\n",
       "      <td>NaN</td>\n",
       "      <td>NaN</td>\n",
       "      <td>NaN</td>\n",
       "      <td>NaN</td>\n",
       "      <td>...</td>\n",
       "      <td>NaN</td>\n",
       "      <td>NaN</td>\n",
       "      <td>NaN</td>\n",
       "      <td>NaN</td>\n",
       "      <td>NaN</td>\n",
       "      <td>NaN</td>\n",
       "      <td>NaN</td>\n",
       "      <td>4e3nmq</td>\n",
       "      <td>depression</td>\n",
       "      <td>keep trying.Your link with your creativity has weakened so you need to kick on it constantly to get it back. Dont feel down if you your drawings are shit in the beginning,once you get in the flow you will be connected back to your creativity :) As some others have said, keep trying. Grab a pen and make it go places on paper. Watch a movie or browse through deviantArt to gain some inspiration.                   I have the same exact problem.  Structure and a push helps me to draw to my optimum.  I wish I could help, but I'm just as distraught as you about this.           I just kinda... put the pen in one direction, then another and dont really think about. I seperate my mind and my hand</td>\n",
       "    </tr>\n",
       "    <tr>\n",
       "      <th>3</th>\n",
       "      <td>591dffd8f7327e5f6df0593a</td>\n",
       "      <td>NaN</td>\n",
       "      <td>NaN</td>\n",
       "      <td>NaN</td>\n",
       "      <td>NaN</td>\n",
       "      <td>NaN</td>\n",
       "      <td>NaN</td>\n",
       "      <td>NaN</td>\n",
       "      <td>NaN</td>\n",
       "      <td>NaN</td>\n",
       "      <td>...</td>\n",
       "      <td>NaN</td>\n",
       "      <td>NaN</td>\n",
       "      <td>NaN</td>\n",
       "      <td>NaN</td>\n",
       "      <td>NaN</td>\n",
       "      <td>NaN</td>\n",
       "      <td>NaN</td>\n",
       "      <td>4e3n9j</td>\n",
       "      <td>depression</td>\n",
       "      <td>NaN</td>\n",
       "    </tr>\n",
       "    <tr>\n",
       "      <th>4</th>\n",
       "      <td>591dffd9f7327e5f6df0593c</td>\n",
       "      <td>The first thing you can do is be social on here. It always sucks to drink alone; I've done plenty of it myself. If it didn't screw with my blood sugar, I'd drink more. It's hard to be social in a university setting when you don't feel like you fit in or that you're not \"one of them\". I went to a little bitty school and felt like a near outcast most of the time I was there. I know now that it was my perception because I have several friends from that time who have kept up with me for nearly 20 years now.</td>\n",
       "      <td>NaN</td>\n",
       "      <td>NaN</td>\n",
       "      <td>NaN</td>\n",
       "      <td>NaN</td>\n",
       "      <td>NaN</td>\n",
       "      <td>NaN</td>\n",
       "      <td>NaN</td>\n",
       "      <td>NaN</td>\n",
       "      <td>...</td>\n",
       "      <td>NaN</td>\n",
       "      <td>NaN</td>\n",
       "      <td>NaN</td>\n",
       "      <td>NaN</td>\n",
       "      <td>NaN</td>\n",
       "      <td>NaN</td>\n",
       "      <td>NaN</td>\n",
       "      <td>4e3llb</td>\n",
       "      <td>depression</td>\n",
       "      <td>The first thing you can do is be social on here. It always sucks to drink alone; I've done plenty of it myself. If it didn't screw with my blood sugar, I'd drink more. It's hard to be social in a university setting when you don't feel like you fit in or that you're not \"one of them\". I went to a little bitty school and felt like a near outcast most of the time I was there. I know now that it was my perception because I have several friends from that time who have kept up with me for nearly 20 years now.</td>\n",
       "    </tr>\n",
       "  </tbody>\n",
       "</table>\n",
       "<p>5 rows × 112 columns</p>\n",
       "</div>"
      ],
      "text/plain": [
       "                        _id  \\\n",
       "0  591dffd5f7327e5f6df05934   \n",
       "1  591dffd6f7327e5f6df05936   \n",
       "2  591dffd7f7327e5f6df05938   \n",
       "3  591dffd8f7327e5f6df0593a   \n",
       "4  591dffd9f7327e5f6df0593c   \n",
       "\n",
       "                                                                                                                                                                                                                                                                                                                                                                                                                                                                                                                           com0  \\\n",
       "0                                                 That's all up to you, my friend. You can choose to end your story now or you can choose to keep going and see what comes next. We have to come up with our own reasons to stick around. As for me, I stick around partly because I'm stubborn and refuse to let the depression win and I have some people who love me who would be totally devastated. I reply to people on here so I can feel like I have a purpose when I encourage others and show a little love and care.   \n",
       "1                                                                                                                                                                                                                                                                                                                                                                                                                                                                                                      What are your interests?   \n",
       "2                                                                                                                                                                                                                                                                          keep trying.Your link with your creativity has weakened so you need to kick on it constantly to get it back. Dont feel down if you your drawings are shit in the beginning,once you get in the flow you will be connected back to your creativity :)   \n",
       "3                                                                                                                                                                                                                                                                                                                                                                                                                                                                                                                           NaN   \n",
       "4  The first thing you can do is be social on here. It always sucks to drink alone; I've done plenty of it myself. If it didn't screw with my blood sugar, I'd drink more. It's hard to be social in a university setting when you don't feel like you fit in or that you're not \"one of them\". I went to a little bitty school and felt like a near outcast most of the time I was there. I know now that it was my perception because I have several friends from that time who have kept up with me for nearly 20 years now.   \n",
       "\n",
       "                                                                                                                                                                                                                                                                                                                                                                                                                                                                                  com1  \\\n",
       "0                                                                                                                                                                               No.  And me neither.  We stick around because killing ourselves is hard and we feel bad because it feels like throwing in the towel.  And because we have hope that it will get better.  But what does that mean?  Will we get friends?  Will we have a life we want to come home to?  In my case, no.   \n",
       "1  Hang in there. Many feel like you. It is much harder to maintain and build friendships outside of high school and college. Everyone seems so self absorbed or not interested in new friendships. It's especially hard for people who aren't naturally outgoing.  Don't be so hard on yourself. You took the time to put yourself out here. Hopefully we can provide you support and encouragement. I understand you feeling tired and lonely. You are not alone here. Hang in there   \n",
       "2                                                                                                                                                                                                                                                                                                                               As some others have said, keep trying. Grab a pen and make it go places on paper. Watch a movie or browse through deviantArt to gain some inspiration.   \n",
       "3                                                                                                                                                                                                                                                                                                                                                                                                                                                                                  NaN   \n",
       "4                                                                                                                                                                                                                                                                                                                                                                                                                                                                                  NaN   \n",
       "\n",
       "  com10 com100 com101 com102 com103 com104 com105  \\\n",
       "0   NaN    NaN    NaN    NaN    NaN    NaN    NaN   \n",
       "1   NaN    NaN    NaN    NaN    NaN    NaN    NaN   \n",
       "2   NaN    NaN    NaN    NaN    NaN    NaN    NaN   \n",
       "3   NaN    NaN    NaN    NaN    NaN    NaN    NaN   \n",
       "4   NaN    NaN    NaN    NaN    NaN    NaN    NaN   \n",
       "\n",
       "                                                                                                                                                                                                                                                                                                                                                                                           ...                                                                                                                                                                                                                                                                                                                                                                                           \\\n",
       "0                                                                                                                                                                                                                                                                                                                                                                                          ...                                                                                                                                                                                                                                                                                                                                                                                            \n",
       "1                                                                                                                                                                                                                                                                                                                                                                                          ...                                                                                                                                                                                                                                                                                                                                                                                            \n",
       "2                                                                                                                                                                                                                                                                                                                                                                                          ...                                                                                                                                                                                                                                                                                                                                                                                            \n",
       "3                                                                                                                                                                                                                                                                                                                                                                                          ...                                                                                                                                                                                                                                                                                                                                                                                            \n",
       "4                                                                                                                                                                                                                                                                                                                                                                                          ...                                                                                                                                                                                                                                                                                                                                                                                            \n",
       "\n",
       "  com93 com94 com95 com96 com97 com98 com99      id        type  \\\n",
       "0   NaN   NaN   NaN   NaN   NaN   NaN   NaN  4e3oc9  depression   \n",
       "1   NaN   NaN   NaN   NaN   NaN   NaN   NaN  4e3o7b  depression   \n",
       "2   NaN   NaN   NaN   NaN   NaN   NaN   NaN  4e3nmq  depression   \n",
       "3   NaN   NaN   NaN   NaN   NaN   NaN   NaN  4e3n9j  depression   \n",
       "4   NaN   NaN   NaN   NaN   NaN   NaN   NaN  4e3llb  depression   \n",
       "\n",
       "                                                                                                                                                                                                                                                                                                                                                                                                                                                                                                                                                                                                                                                                                                                                                                         total_comments  \n",
       "0  That's all up to you, my friend. You can choose to end your story now or you can choose to keep going and see what comes next. We have to come up with our own reasons to stick around. As for me, I stick around partly because I'm stubborn and refuse to let the depression win and I have some people who love me who would be totally devastated. I reply to people on here so I can feel like I have a purpose when I encourage others and show a little love and care. No.  And me neither.  We stick around because killing ourselves is hard and we feel bad because it feels like throwing in the towel.  And because we have hope that it will get better.  But what does that mean?  Will we get friends?  Will we have a life we want to come home to?  In my case, no.  \n",
       "1                                                                                                                                                                                                                                                                          What are your interests? Hang in there. Many feel like you. It is much harder to maintain and build friendships outside of high school and college. Everyone seems so self absorbed or not interested in new friendships. It's especially hard for people who aren't naturally outgoing.  Don't be so hard on yourself. You took the time to put yourself out here. Hopefully we can provide you support and encouragement. I understand you feeling tired and lonely. You are not alone here. Hang in there  \n",
       "2                                                               keep trying.Your link with your creativity has weakened so you need to kick on it constantly to get it back. Dont feel down if you your drawings are shit in the beginning,once you get in the flow you will be connected back to your creativity :) As some others have said, keep trying. Grab a pen and make it go places on paper. Watch a movie or browse through deviantArt to gain some inspiration.                   I have the same exact problem.  Structure and a push helps me to draw to my optimum.  I wish I could help, but I'm just as distraught as you about this.           I just kinda... put the pen in one direction, then another and dont really think about. I seperate my mind and my hand  \n",
       "3                                                                                                                                                                                                                                                                                                                                                                                                                                                                                                                                                                                                                                                                                                                                                                                   NaN  \n",
       "4                                                                                                                                                                                                                                                          The first thing you can do is be social on here. It always sucks to drink alone; I've done plenty of it myself. If it didn't screw with my blood sugar, I'd drink more. It's hard to be social in a university setting when you don't feel like you fit in or that you're not \"one of them\". I went to a little bitty school and felt like a near outcast most of the time I was there. I know now that it was my perception because I have several friends from that time who have kept up with me for nearly 20 years now.  \n",
       "\n",
       "[5 rows x 112 columns]"
      ]
     },
     "execution_count": 8,
     "metadata": {},
     "output_type": "execute_result"
    }
   ],
   "source": [
    "comments.head()"
   ]
  },
  {
   "cell_type": "code",
   "execution_count": 38,
   "metadata": {
    "ExecuteTime": {
     "end_time": "2017-07-16T00:55:37.460036Z",
     "start_time": "2017-07-16T00:55:36.925334Z"
    },
    "collapsed": true
   },
   "outputs": [],
   "source": [
    "CV1 = CountVectorizer(ngram_range=((1,2)),  \n",
    "                                   stop_words=stopwords, \n",
    "                                   analyzer = \"word\",\n",
    "                                   tokenizer = text_cleaner_and_stemmer,\n",
    "                                   token_pattern=\"\\\\b[a-z][a-z]+\\\\b\",\n",
    "                                   min_df=5, max_df=.95)\n",
    "\n",
    "TV1 = TfidfVectorizer(ngram_range=(1, 3), \n",
    "                    stop_words=stopwords, \n",
    "                    tokenizer = text_cleaner_and_stemmer,\n",
    "                    token_pattern=\"\\\\b[a-z][a-z]+\\\\b\", min_df=5, max_df=.93)\n",
    "\n",
    "\n"
   ]
  },
  {
   "cell_type": "code",
   "execution_count": 13,
   "metadata": {
    "ExecuteTime": {
     "end_time": "2017-07-16T00:05:25.075627Z",
     "start_time": "2017-07-16T00:05:25.030001Z"
    },
    "collapsed": true
   },
   "outputs": [],
   "source": [
    "comments = comments[comments.total_comments.notnull()]"
   ]
  },
  {
   "cell_type": "code",
   "execution_count": 39,
   "metadata": {
    "ExecuteTime": {
     "end_time": "2017-07-16T00:58:25.675450Z",
     "start_time": "2017-07-16T00:55:39.351927Z"
    },
    "collapsed": false
   },
   "outputs": [],
   "source": [
    "X_comments = CV1.fit_transform(comments.total_comments)"
   ]
  },
  {
   "cell_type": "code",
   "execution_count": 40,
   "metadata": {
    "ExecuteTime": {
     "end_time": "2017-07-16T01:01:16.253886Z",
     "start_time": "2017-07-16T00:58:25.682758Z"
    },
    "collapsed": true
   },
   "outputs": [],
   "source": [
    "X_comments1 = TV1.fit_transform(comments.total_comments)"
   ]
  },
  {
   "cell_type": "code",
   "execution_count": 41,
   "metadata": {
    "ExecuteTime": {
     "end_time": "2017-07-16T01:01:30.475906Z",
     "start_time": "2017-07-16T01:01:16.258531Z"
    },
    "collapsed": false
   },
   "outputs": [
    {
     "name": "stderr",
     "output_type": "stream",
     "text": [
      "//anaconda/lib/python3.5/site-packages/sklearn/decomposition/online_lda.py:508: DeprecationWarning: The default value for 'learning_method' will be changed from 'online' to 'batch' in the release 0.20. This warning was introduced in 0.18.\n",
      "  DeprecationWarning)\n"
     ]
    },
    {
     "data": {
      "text/plain": [
       "LatentDirichletAllocation(batch_size=128, doc_topic_prior=None,\n",
       "             evaluate_every=-1, learning_decay=0.7, learning_method=None,\n",
       "             learning_offset=10.0, max_doc_update_iter=100, max_iter=30,\n",
       "             mean_change_tol=0.001, n_jobs=1, n_topics=3, perp_tol=0.1,\n",
       "             random_state=42, topic_word_prior=None,\n",
       "             total_samples=1000000.0, verbose=0)"
      ]
     },
     "execution_count": 41,
     "metadata": {},
     "output_type": "execute_result"
    }
   ],
   "source": [
    "n_topics = 3\n",
    "n_iter = 30\n",
    "\n",
    "lda_comments = LatentDirichletAllocation(n_topics=n_topics,\n",
    "                                max_iter=n_iter,\n",
    "                                random_state=42)\n",
    "\n",
    "lda_comments.fit(X_comments1)"
   ]
  },
  {
   "cell_type": "code",
   "execution_count": 42,
   "metadata": {
    "ExecuteTime": {
     "end_time": "2017-07-16T01:01:31.184064Z",
     "start_time": "2017-07-16T01:01:30.477840Z"
    },
    "collapsed": false
   },
   "outputs": [
    {
     "data": {
      "text/plain": [
       "NMF(alpha=0.0, beta=1, eta=0.1, init=None, l1_ratio=0.0, max_iter=50,\n",
       "  n_components=4, nls_max_iter=2000, random_state=42, shuffle=False,\n",
       "  solver='cd', sparseness=None, tol=0.0001, verbose=0)"
      ]
     },
     "execution_count": 42,
     "metadata": {},
     "output_type": "execute_result"
    }
   ],
   "source": [
    "nmf_comments = NMF(n_components = 4, max_iter=50, random_state=42)\n",
    "nmf_comments.fit(X_comments)"
   ]
  },
  {
   "cell_type": "code",
   "execution_count": 45,
   "metadata": {
    "ExecuteTime": {
     "end_time": "2017-07-16T12:06:51.022446Z",
     "start_time": "2017-07-16T12:06:49.317811Z"
    },
    "collapsed": false
   },
   "outputs": [
    {
     "name": "stdout",
     "output_type": "stream",
     "text": [
      "Topic 1:\n",
      "get feel like go im help dont make thing people take know time think try well youre really work life\n",
      "Topic 2:\n",
      "officially medical advice valid medical remove perfectly valid remove perfectly post hasnt remove perfectly valid hasnt remove hasnt remove perfectly post hasnt best recommend doctor generally best come idea may advice online good thing keep idea may receive consider medical receive area everyones\n",
      "Topic 3:\n",
      "resource ton great page get helpranxietywgettinghelp helpranxietywgettinghelp wiki list crisis u international information type it’s international armor crisis tip link downloads chatroom link say u\n"
     ]
    }
   ],
   "source": [
    "print_topic_top_words(lda_comments, TV1, 20)"
   ]
  },
  {
   "cell_type": "code",
   "execution_count": 46,
   "metadata": {
    "ExecuteTime": {
     "end_time": "2017-07-16T12:06:51.677628Z",
     "start_time": "2017-07-16T12:06:51.050399Z"
    },
    "collapsed": false
   },
   "outputs": [
    {
     "name": "stdout",
     "output_type": "stream",
     "text": [
      "Topic 1:\n",
      "people dont like feel make know life think thing friend get one say go want way youre time talk someone\n",
      "Topic 2:\n",
      "get take help work go thing well medication time try make start also doctor good really need bad day youre\n",
      "Topic 3:\n",
      "im feel get like go really time year day want week feel like well know cant make last try dont bad\n",
      "Topic 4:\n",
      "panic attack panic attack go feel like im time thought get help heart life know day one first really year experience\n"
     ]
    }
   ],
   "source": [
    "print_topic_top_words(nmf_comments, CV1, 20)"
   ]
  },
  {
   "cell_type": "markdown",
   "metadata": {},
   "source": [
    "Topic 1: Responses seem to involve relating to or talking to friends or other people.\n",
    "\n",
    "Topic 2: Responses seem on the line of getting medical help.\n",
    "\n",
    "Topic 3: This seems to be a general relating topic and about feelings.\n",
    "  \n",
    "Topic 4: We get some time words in here and as we as mentions about panic attacks (people describing their own experiences?).\n",
    "\n",
    "Overall these topics are similar to the posts ones (and all center on relating or trying to help the person out)."
   ]
  },
  {
   "cell_type": "code",
   "execution_count": null,
   "metadata": {
    "collapsed": true
   },
   "outputs": [],
   "source": []
  }
 ],
 "metadata": {
  "kernelspec": {
   "display_name": "Python [conda root]",
   "language": "python",
   "name": "conda-root-py"
  },
  "language_info": {
   "codemirror_mode": {
    "name": "ipython",
    "version": 3
   },
   "file_extension": ".py",
   "mimetype": "text/x-python",
   "name": "python",
   "nbconvert_exporter": "python",
   "pygments_lexer": "ipython3",
   "version": "3.5.2"
  }
 },
 "nbformat": 4,
 "nbformat_minor": 2
}
