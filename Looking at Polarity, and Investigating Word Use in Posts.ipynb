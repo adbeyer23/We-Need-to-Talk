{
 "cells": [
  {
   "cell_type": "markdown",
   "metadata": {},
   "source": [
    "**In this notebook, I look at the polarity of the posts and comments and explore a hypothesis I had about posts that are very negative or positive.**"
   ]
  },
  {
   "cell_type": "code",
   "execution_count": 2,
   "metadata": {
    "ExecuteTime": {
     "end_time": "2017-07-16T17:55:20.149708Z",
     "start_time": "2017-07-16T17:55:17.953382Z"
    },
    "collapsed": true
   },
   "outputs": [],
   "source": [
    "from vaderSentiment.vaderSentiment import SentimentIntensityAnalyzer\n",
    "import pandas as pd\n",
    "import matplotlib.pyplot as plt\n",
    "import seaborn as sns\n",
    "pd.set_option('max_colwidth',1000)\n",
    "import seaborn as sns\n",
    "%matplotlib inline\n",
    "import itertools\n",
    "import re\n",
    "import string"
   ]
  },
  {
   "cell_type": "code",
   "execution_count": 3,
   "metadata": {
    "ExecuteTime": {
     "end_time": "2017-07-16T17:55:20.831835Z",
     "start_time": "2017-07-16T17:55:20.810557Z"
    },
    "collapsed": true
   },
   "outputs": [],
   "source": [
    "SIA = SentimentIntensityAnalyzer()"
   ]
  },
  {
   "cell_type": "markdown",
   "metadata": {},
   "source": [
    "Sentiment Intensity Analyzer returns a dictionary of scores (positive, negative and neutral). I am using the compound of this score which is the aggregation of the three other scores."
   ]
  },
  {
   "cell_type": "code",
   "execution_count": 4,
   "metadata": {
    "ExecuteTime": {
     "end_time": "2017-07-16T17:55:22.161301Z",
     "start_time": "2017-07-16T17:55:22.157769Z"
    },
    "collapsed": true
   },
   "outputs": [],
   "source": [
    "def polarity(row):\n",
    "    SA = SIA.polarity_scores(row)\n",
    "    return SA[\"compound\"]"
   ]
  },
  {
   "cell_type": "code",
   "execution_count": 5,
   "metadata": {
    "ExecuteTime": {
     "end_time": "2017-07-16T17:55:23.561505Z",
     "start_time": "2017-07-16T17:55:22.604759Z"
    },
    "collapsed": false
   },
   "outputs": [],
   "source": [
    "comments = pd.read_pickle(\"comments.pkl\")"
   ]
  },
  {
   "cell_type": "markdown",
   "metadata": {},
   "source": [
    "I decided to only look at the polarity of comments with posts that have 5 or more comments. I also will only look at the polarity of the first 5 comments."
   ]
  },
  {
   "cell_type": "code",
   "execution_count": 6,
   "metadata": {
    "ExecuteTime": {
     "end_time": "2017-07-16T17:55:24.028952Z",
     "start_time": "2017-07-16T17:55:23.975951Z"
    },
    "collapsed": false
   },
   "outputs": [
    {
     "data": {
      "text/html": [
       "<div>\n",
       "<style>\n",
       "    .dataframe thead tr:only-child th {\n",
       "        text-align: right;\n",
       "    }\n",
       "\n",
       "    .dataframe thead th {\n",
       "        text-align: left;\n",
       "    }\n",
       "\n",
       "    .dataframe tbody tr th {\n",
       "        vertical-align: top;\n",
       "    }\n",
       "</style>\n",
       "<table border=\"1\" class=\"dataframe\">\n",
       "  <thead>\n",
       "    <tr style=\"text-align: right;\">\n",
       "      <th></th>\n",
       "      <th>_id</th>\n",
       "      <th>com0</th>\n",
       "      <th>com1</th>\n",
       "      <th>com10</th>\n",
       "      <th>com100</th>\n",
       "      <th>com101</th>\n",
       "      <th>com102</th>\n",
       "      <th>com103</th>\n",
       "      <th>com104</th>\n",
       "      <th>com105</th>\n",
       "      <th>...</th>\n",
       "      <th>com93</th>\n",
       "      <th>com94</th>\n",
       "      <th>com95</th>\n",
       "      <th>com96</th>\n",
       "      <th>com97</th>\n",
       "      <th>com98</th>\n",
       "      <th>com99</th>\n",
       "      <th>id</th>\n",
       "      <th>type</th>\n",
       "      <th>total_comments</th>\n",
       "    </tr>\n",
       "  </thead>\n",
       "  <tbody>\n",
       "    <tr>\n",
       "      <th>0</th>\n",
       "      <td>591e0003f7327e5f6df05984</td>\n",
       "      <td>Illustrator here, the well of creativity dries up whenever things get worse. Hell, those days I'm even afraid to put a pencil, pen or any other tool to paper because I know I won't be able to put anything decent on there anyway, so I won't even try. I used to be full of ideas and motivation to execute them, but now I struggle to come up with the simplest thing to draw..</td>\n",
       "      <td>I'm an artist and it has *greatly* affected me; I've noticed my great trouble with creative work now and as a result I do more 'traditional work' which requires just observation and not imaginative thought. \\n\\n\\nAnd that really upsets me. It's such a big part of me, and I'm holding on to it, I'm *afraid* of losing that. \\n</td>\n",
       "      <td>I'm not the most creative person myself,but I feel the same way sometimes. For me, it's like my somewhat creative \"flow\" is just gone or not there.</td>\n",
       "      <td>NaN</td>\n",
       "      <td>NaN</td>\n",
       "      <td>NaN</td>\n",
       "      <td>NaN</td>\n",
       "      <td>NaN</td>\n",
       "      <td>NaN</td>\n",
       "      <td>...</td>\n",
       "      <td>NaN</td>\n",
       "      <td>NaN</td>\n",
       "      <td>NaN</td>\n",
       "      <td>NaN</td>\n",
       "      <td>NaN</td>\n",
       "      <td>NaN</td>\n",
       "      <td>NaN</td>\n",
       "      <td>4e2aww</td>\n",
       "      <td>depression</td>\n",
       "      <td>Illustrator here, the well of creativity dries up whenever things get worse. Hell, those days I'm even afraid to put a pencil, pen or any other tool to paper because I know I won't be able to put anything decent on there anyway, so I won't even try. I used to be full of ideas and motivation to execute them, but now I struggle to come up with the simplest thing to draw.. I'm an artist and it has *greatly* affected me; I've noticed my great trouble with creative work now and as a result I do more 'traditional work' which requires just observation and not imaginative thought. \\n\\n\\nAnd that really upsets me. It's such a big part of me, and I'm holding on to it, I'm *afraid* of losing that. \\n I'm not the most creative person myself,but I feel the same way sometimes. For me, it's like my somewhat creative \"flow\" is just gone or not there.         I was a pretty good poet in grade 5. 15 years later, I can't write a thing. fuck yeah it has, im too fuckin nervous to be creative around peo...</td>\n",
       "    </tr>\n",
       "    <tr>\n",
       "      <th>1</th>\n",
       "      <td>591e0005f7327e5f6df05986</td>\n",
       "      <td>Get out of the house first thing in the morning.. (It takes me 5 hours to get myself out lol, that's the hardest part of the day) . Sit at a library or a coffeeshop with wifi while you look for a job. or at a public park or something if you're in someplace with warm weather. \\n\\nStaying at home makes each day the same. Find a new place to work from everyday. If you just get out, you can wing it everyday, and not have to make a fixed schedule, and still get something productive done.  Also, you won't have to clean your house that often! \\n\\n\\n\\n</td>\n",
       "      <td>I would start by adding in one productive, happy activity for at least half an hour a day. Cleaning your apartment and watching a movie are actually pretty great things to add in between all the crying, I should try that. Do you work or study? If not, why don't you try something related to fitness or creativity? I don't know if this is appropriate to post on /r/depression, but you should maybe try checking out /r/90daysgoal/ ? I haven't joined in on a round in a while, and you don't necessarily have to, but it's a very positive place full of examples of daily/weekly schedules and goals you might look forward to reading. Best of luck, keep strong.</td>\n",
       "      <td>NaN</td>\n",
       "      <td>NaN</td>\n",
       "      <td>NaN</td>\n",
       "      <td>NaN</td>\n",
       "      <td>NaN</td>\n",
       "      <td>NaN</td>\n",
       "      <td>NaN</td>\n",
       "      <td>...</td>\n",
       "      <td>NaN</td>\n",
       "      <td>NaN</td>\n",
       "      <td>NaN</td>\n",
       "      <td>NaN</td>\n",
       "      <td>NaN</td>\n",
       "      <td>NaN</td>\n",
       "      <td>NaN</td>\n",
       "      <td>4e2as1</td>\n",
       "      <td>depression</td>\n",
       "      <td>Get out of the house first thing in the morning.. (It takes me 5 hours to get myself out lol, that's the hardest part of the day) . Sit at a library or a coffeeshop with wifi while you look for a job. or at a public park or something if you're in someplace with warm weather. \\n\\nStaying at home makes each day the same. Find a new place to work from everyday. If you just get out, you can wing it everyday, and not have to make a fixed schedule, and still get something productive done.  Also, you won't have to clean your house that often! \\n\\n\\n\\n I would start by adding in one productive, happy activity for at least half an hour a day. Cleaning your apartment and watching a movie are actually pretty great things to add in between all the crying, I should try that. Do you work or study? If not, why don't you try something related to fitness or creativity? I don't know if this is appropriate to post on /r/depression, but you should maybe try checking out /r/90daysgoal/ ? I haven't join...</td>\n",
       "    </tr>\n",
       "    <tr>\n",
       "      <th>2</th>\n",
       "      <td>591e0019f7327e5f6df059a6</td>\n",
       "      <td>*Nobody* gives a fuck about depression.</td>\n",
       "      <td>Rant on man. Thats what we're here for.</td>\n",
       "      <td>I agree so much. They basically only care if they have to. Like my parents, well they were forced into this position. Like my brother, who doesn't give a shit to the fact that he drives down my mood by picking on my irritability. Like my friends, constantly saying \"they care and they're there for you\" but never showing it, not even trying. Like my school, that was forced to care about me the two weeks after coming out of A&amp;E, and now does not give a shit.\\n\\nI'm sick and tired of empty words and people saying they care. Like fuck you and don't you dare say it if you don't actually care. Stop doing it to try and look good by doing it, doing it to reassure yourself you're a good person. If you care, fucking do something. Stop talking about how you're feeling dealing with me and how it's hard for you. Start talking about how I'm dealing with me and how it's hard for me to live with myself.</td>\n",
       "      <td>NaN</td>\n",
       "      <td>NaN</td>\n",
       "      <td>NaN</td>\n",
       "      <td>NaN</td>\n",
       "      <td>NaN</td>\n",
       "      <td>NaN</td>\n",
       "      <td>...</td>\n",
       "      <td>NaN</td>\n",
       "      <td>NaN</td>\n",
       "      <td>NaN</td>\n",
       "      <td>NaN</td>\n",
       "      <td>NaN</td>\n",
       "      <td>NaN</td>\n",
       "      <td>NaN</td>\n",
       "      <td>4e1klh</td>\n",
       "      <td>depression</td>\n",
       "      <td>*Nobody* gives a fuck about depression. Rant on man. Thats what we're here for. I agree so much. They basically only care if they have to. Like my parents, well they were forced into this position. Like my brother, who doesn't give a shit to the fact that he drives down my mood by picking on my irritability. Like my friends, constantly saying \"they care and they're there for you\" but never showing it, not even trying. Like my school, that was forced to care about me the two weeks after coming out of A&amp;E, and now does not give a shit.\\n\\nI'm sick and tired of empty words and people saying they care. Like fuck you and don't you dare say it if you don't actually care. Stop doing it to try and look good by doing it, doing it to reassure yourself you're a good person. If you care, fucking do something. Stop talking about how you're feeling dealing with me and how it's hard for you. Start talking about how I'm dealing with me and how it's hard for me to live with myself.         I agree ...</td>\n",
       "    </tr>\n",
       "    <tr>\n",
       "      <th>3</th>\n",
       "      <td>591e002ff7327e5f6df059ca</td>\n",
       "      <td>That last line made me smile. Thank you :)</td>\n",
       "      <td>\"I'll outlive you, you stupid piece of shit.\"\\n\\nThat's the spirit. I would've never actually thought that thought, but thats right on the money.</td>\n",
       "      <td>&gt;I told her I feel depressed and she said \"There's no such thing as depression\"\\n\\nYou're not losing anything of value by ending that relationship. What an asshole.</td>\n",
       "      <td>NaN</td>\n",
       "      <td>NaN</td>\n",
       "      <td>NaN</td>\n",
       "      <td>NaN</td>\n",
       "      <td>NaN</td>\n",
       "      <td>NaN</td>\n",
       "      <td>...</td>\n",
       "      <td>NaN</td>\n",
       "      <td>NaN</td>\n",
       "      <td>NaN</td>\n",
       "      <td>NaN</td>\n",
       "      <td>NaN</td>\n",
       "      <td>NaN</td>\n",
       "      <td>NaN</td>\n",
       "      <td>4e0l2i</td>\n",
       "      <td>depression</td>\n",
       "      <td>That last line made me smile. Thank you :) \"I'll outlive you, you stupid piece of shit.\"\\n\\nThat's the spirit. I would've never actually thought that thought, but thats right on the money.  &gt;I told her I feel depressed and she said \"There's no such thing as depression\"\\n\\nYou're not losing anything of value by ending that relationship. What an asshole.         I know this post is old, but that last line made me smile. It's almost silly the kinds of things that keep us going sometimes. But they keep us trucking nonetheless. Made my bad night just a little better. Thank you.\\n\\nOh, and fuck her. She doesn't fucking deserve you, man. Dude I'm sorry you ex is such a bitch. Prove her wrong and have an awesome life Jesus, you did yourself a favor by breaking up with her.\\n\\nAlso, those last two sentences? Awesome stuff right there. That did not go in the direction I was expecting it to.  My justice boner is throbbing now. My ex was exactly like that. Pure poison. After we split, I told h...</td>\n",
       "    </tr>\n",
       "    <tr>\n",
       "      <th>4</th>\n",
       "      <td>591e006bf7327e5f6df05a22</td>\n",
       "      <td>I am in a similar place. Except the stupidest thing is holding me back. My cat. I raised him from a little tiny baby and I'm the only one in the world that knows him and loves him and no matter how much I hate myself or want to die I can't abandon this fuzzy little cat who's never shown me anything but love. I don't know what is best for anyone, but maybe if you get a dog or a cat and you know they depend on you it will help? It certainly hasn't stopped the depression but it stopped me from killing myself.</td>\n",
       "      <td>You don't want to kill yourself. Obviously not if you came on here looking for answers. Looking for help. Looking for a way to end your depression. Maybe just support. Or maybe I'm wrong and you just want everyone to know life isn't just sunshines and daisies. But if I'm right, and you do want help, that's what I want to offer. My help.\\n\\nFirst off, here's a list of guidelines or whatnot for depression.\\n1.) It sucks\\n2.) Drugs make it worse (prescription or otherwise)\\n3.) Codependency (basically what the guy was describing with his cat) makes everything worse\\n4.) Therapy will not help (especially since it's essentially just paying someone to be a crappy friend for an hour)\\n5.) Hospitals can be fun, but they're also depressing\\n6.) Suicide is hard\\n7.) Suicide is painful (because just about every form of death is painful)\\n8.) No matter how much you think no one cares, there's at least one person who does\\n9.) Said person/persons will be upset if you die\\n10.) Said person/perso...</td>\n",
       "      <td>I know the feels. I mean, I have people around, but I still feel lonely. I hate being social, even though I know I SHOULD be social...and I end up feeling lonely. And yet, I like being by myself. I don't get it. \\n\\nFuck, I'm probably not making any sense anyway, I've been drinking since I got home from hockey a few hours ago.</td>\n",
       "      <td>NaN</td>\n",
       "      <td>NaN</td>\n",
       "      <td>NaN</td>\n",
       "      <td>NaN</td>\n",
       "      <td>NaN</td>\n",
       "      <td>NaN</td>\n",
       "      <td>...</td>\n",
       "      <td>NaN</td>\n",
       "      <td>NaN</td>\n",
       "      <td>NaN</td>\n",
       "      <td>NaN</td>\n",
       "      <td>NaN</td>\n",
       "      <td>NaN</td>\n",
       "      <td>NaN</td>\n",
       "      <td>4dzioy</td>\n",
       "      <td>depression</td>\n",
       "      <td>I am in a similar place. Except the stupidest thing is holding me back. My cat. I raised him from a little tiny baby and I'm the only one in the world that knows him and loves him and no matter how much I hate myself or want to die I can't abandon this fuzzy little cat who's never shown me anything but love. I don't know what is best for anyone, but maybe if you get a dog or a cat and you know they depend on you it will help? It certainly hasn't stopped the depression but it stopped me from killing myself.  You don't want to kill yourself. Obviously not if you came on here looking for answers. Looking for help. Looking for a way to end your depression. Maybe just support. Or maybe I'm wrong and you just want everyone to know life isn't just sunshines and daisies. But if I'm right, and you do want help, that's what I want to offer. My help.\\n\\nFirst off, here's a list of guidelines or whatnot for depression.\\n1.) It sucks\\n2.) Drugs make it worse (prescription or otherwise)\\n3.) Cod...</td>\n",
       "    </tr>\n",
       "  </tbody>\n",
       "</table>\n",
       "<p>5 rows × 112 columns</p>\n",
       "</div>"
      ],
      "text/plain": [
       "                        _id  \\\n",
       "0  591e0003f7327e5f6df05984   \n",
       "1  591e0005f7327e5f6df05986   \n",
       "2  591e0019f7327e5f6df059a6   \n",
       "3  591e002ff7327e5f6df059ca   \n",
       "4  591e006bf7327e5f6df05a22   \n",
       "\n",
       "                                                                                                                                                                                                                                                                                                                                                                                                                                                                                                                                                                     com0  \\\n",
       "0                                                                                                                                                                                    Illustrator here, the well of creativity dries up whenever things get worse. Hell, those days I'm even afraid to put a pencil, pen or any other tool to paper because I know I won't be able to put anything decent on there anyway, so I won't even try. I used to be full of ideas and motivation to execute them, but now I struggle to come up with the simplest thing to draw..   \n",
       "1  Get out of the house first thing in the morning.. (It takes me 5 hours to get myself out lol, that's the hardest part of the day) . Sit at a library or a coffeeshop with wifi while you look for a job. or at a public park or something if you're in someplace with warm weather. \\n\\nStaying at home makes each day the same. Find a new place to work from everyday. If you just get out, you can wing it everyday, and not have to make a fixed schedule, and still get something productive done.  Also, you won't have to clean your house that often! \\n\\n\\n\\n   \n",
       "2                                                                                                                                                                                                                                                                                                                                                                                                                                                                                                                                 *Nobody* gives a fuck about depression.   \n",
       "3                                                                                                                                                                                                                                                                                                                                                                                                                                                                                                                              That last line made me smile. Thank you :)   \n",
       "4                                        I am in a similar place. Except the stupidest thing is holding me back. My cat. I raised him from a little tiny baby and I'm the only one in the world that knows him and loves him and no matter how much I hate myself or want to die I can't abandon this fuzzy little cat who's never shown me anything but love. I don't know what is best for anyone, but maybe if you get a dog or a cat and you know they depend on you it will help? It certainly hasn't stopped the depression but it stopped me from killing myself.    \n",
       "\n",
       "                                                                                                                                                                                                                                                                                                                                                                                                                                                                                                                                                                                                                                                                                                                                                                                                                                                                                                                                                                                                                                      com1  \\\n",
       "0                                                                                                                                                                                                                                                                                                                                                                                                                                                                                                                                                                                                                                                                                                    I'm an artist and it has *greatly* affected me; I've noticed my great trouble with creative work now and as a result I do more 'traditional work' which requires just observation and not imaginative thought. \\n\\n\\nAnd that really upsets me. It's such a big part of me, and I'm holding on to it, I'm *afraid* of losing that. \\n   \n",
       "1                                                                                                                                                                                                                                                                                                                                                           I would start by adding in one productive, happy activity for at least half an hour a day. Cleaning your apartment and watching a movie are actually pretty great things to add in between all the crying, I should try that. Do you work or study? If not, why don't you try something related to fitness or creativity? I don't know if this is appropriate to post on /r/depression, but you should maybe try checking out /r/90daysgoal/ ? I haven't joined in on a round in a while, and you don't necessarily have to, but it's a very positive place full of examples of daily/weekly schedules and goals you might look forward to reading. Best of luck, keep strong.   \n",
       "2                                                                                                                                                                                                                                                                                                                                                                                                                                                                                                                                                                                                                                                                                                                                                                                                                                                                                                                                                                                                  Rant on man. Thats what we're here for.   \n",
       "3                                                                                                                                                                                                                                                                                                                                                                                                                                                                                                                                                                                                                                                                                                                                                                                                                                                                                       \"I'll outlive you, you stupid piece of shit.\"\\n\\nThat's the spirit. I would've never actually thought that thought, but thats right on the money.    \n",
       "4  You don't want to kill yourself. Obviously not if you came on here looking for answers. Looking for help. Looking for a way to end your depression. Maybe just support. Or maybe I'm wrong and you just want everyone to know life isn't just sunshines and daisies. But if I'm right, and you do want help, that's what I want to offer. My help.\\n\\nFirst off, here's a list of guidelines or whatnot for depression.\\n1.) It sucks\\n2.) Drugs make it worse (prescription or otherwise)\\n3.) Codependency (basically what the guy was describing with his cat) makes everything worse\\n4.) Therapy will not help (especially since it's essentially just paying someone to be a crappy friend for an hour)\\n5.) Hospitals can be fun, but they're also depressing\\n6.) Suicide is hard\\n7.) Suicide is painful (because just about every form of death is painful)\\n8.) No matter how much you think no one cares, there's at least one person who does\\n9.) Said person/persons will be upset if you die\\n10.) Said person/perso...   \n",
       "\n",
       "                                                                                                                                                                                                                                                                                                                                                                                                                                                                                                                                                                                                                                                                                                                                                                                                                                                                                                                                 com10  \\\n",
       "0                                                                                                                                                                                                                                                                                                                                                                                                                                                                                                                                                                                                                                                                                                                                                                                  I'm not the most creative person myself,but I feel the same way sometimes. For me, it's like my somewhat creative \"flow\" is just gone or not there.   \n",
       "1                                                                                                                                                                                                                                                                                                                                                                                                                                                                                                                                                                                                                                                                                                                                                                                                                                                                                                                                  NaN   \n",
       "2  I agree so much. They basically only care if they have to. Like my parents, well they were forced into this position. Like my brother, who doesn't give a shit to the fact that he drives down my mood by picking on my irritability. Like my friends, constantly saying \"they care and they're there for you\" but never showing it, not even trying. Like my school, that was forced to care about me the two weeks after coming out of A&E, and now does not give a shit.\\n\\nI'm sick and tired of empty words and people saying they care. Like fuck you and don't you dare say it if you don't actually care. Stop doing it to try and look good by doing it, doing it to reassure yourself you're a good person. If you care, fucking do something. Stop talking about how you're feeling dealing with me and how it's hard for you. Start talking about how I'm dealing with me and how it's hard for me to live with myself.   \n",
       "3                                                                                                                                                                                                                                                                                                                                                                                                                                                                                                                                                                                                                                                                                                                                                                 >I told her I feel depressed and she said \"There's no such thing as depression\"\\n\\nYou're not losing anything of value by ending that relationship. What an asshole.   \n",
       "4                                                                                                                                                                                                                                                                                                                                                                                                                                                                                                                                                                                            I know the feels. I mean, I have people around, but I still feel lonely. I hate being social, even though I know I SHOULD be social...and I end up feeling lonely. And yet, I like being by myself. I don't get it. \\n\\nFuck, I'm probably not making any sense anyway, I've been drinking since I got home from hockey a few hours ago.    \n",
       "\n",
       "  com100 com101 com102 com103 com104 com105  \\\n",
       "0    NaN    NaN    NaN    NaN    NaN    NaN   \n",
       "1    NaN    NaN    NaN    NaN    NaN    NaN   \n",
       "2    NaN    NaN    NaN    NaN    NaN    NaN   \n",
       "3    NaN    NaN    NaN    NaN    NaN    NaN   \n",
       "4    NaN    NaN    NaN    NaN    NaN    NaN   \n",
       "\n",
       "                                                                                                                                                                                                                                                                                                                                                                                                                                                                                                                    ...                                                                                                                                                                                                                                                                                                                                                                                                                                                                                                                     \\\n",
       "0                                                                                                                                                                                                                                                                                                                                                                                                                                                                                                                   ...                                                                                                                                                                                                                                                                                                                                                                                                                                                                                                                      \n",
       "1                                                                                                                                                                                                                                                                                                                                                                                                                                                                                                                   ...                                                                                                                                                                                                                                                                                                                                                                                                                                                                                                                      \n",
       "2                                                                                                                                                                                                                                                                                                                                                                                                                                                                                                                   ...                                                                                                                                                                                                                                                                                                                                                                                                                                                                                                                      \n",
       "3                                                                                                                                                                                                                                                                                                                                                                                                                                                                                                                   ...                                                                                                                                                                                                                                                                                                                                                                                                                                                                                                                      \n",
       "4                                                                                                                                                                                                                                                                                                                                                                                                                                                                                                                   ...                                                                                                                                                                                                                                                                                                                                                                                                                                                                                                                      \n",
       "\n",
       "  com93 com94 com95 com96 com97 com98 com99      id        type  \\\n",
       "0   NaN   NaN   NaN   NaN   NaN   NaN   NaN  4e2aww  depression   \n",
       "1   NaN   NaN   NaN   NaN   NaN   NaN   NaN  4e2as1  depression   \n",
       "2   NaN   NaN   NaN   NaN   NaN   NaN   NaN  4e1klh  depression   \n",
       "3   NaN   NaN   NaN   NaN   NaN   NaN   NaN  4e0l2i  depression   \n",
       "4   NaN   NaN   NaN   NaN   NaN   NaN   NaN  4dzioy  depression   \n",
       "\n",
       "                                                                                                                                                                                                                                                                                                                                                                                                                                                                                                                                                                                                                                                                                                                                                                                                                                                                                                                                                                                                                            total_comments  \n",
       "0  Illustrator here, the well of creativity dries up whenever things get worse. Hell, those days I'm even afraid to put a pencil, pen or any other tool to paper because I know I won't be able to put anything decent on there anyway, so I won't even try. I used to be full of ideas and motivation to execute them, but now I struggle to come up with the simplest thing to draw.. I'm an artist and it has *greatly* affected me; I've noticed my great trouble with creative work now and as a result I do more 'traditional work' which requires just observation and not imaginative thought. \\n\\n\\nAnd that really upsets me. It's such a big part of me, and I'm holding on to it, I'm *afraid* of losing that. \\n I'm not the most creative person myself,but I feel the same way sometimes. For me, it's like my somewhat creative \"flow\" is just gone or not there.         I was a pretty good poet in grade 5. 15 years later, I can't write a thing. fuck yeah it has, im too fuckin nervous to be creative around peo...  \n",
       "1  Get out of the house first thing in the morning.. (It takes me 5 hours to get myself out lol, that's the hardest part of the day) . Sit at a library or a coffeeshop with wifi while you look for a job. or at a public park or something if you're in someplace with warm weather. \\n\\nStaying at home makes each day the same. Find a new place to work from everyday. If you just get out, you can wing it everyday, and not have to make a fixed schedule, and still get something productive done.  Also, you won't have to clean your house that often! \\n\\n\\n\\n I would start by adding in one productive, happy activity for at least half an hour a day. Cleaning your apartment and watching a movie are actually pretty great things to add in between all the crying, I should try that. Do you work or study? If not, why don't you try something related to fitness or creativity? I don't know if this is appropriate to post on /r/depression, but you should maybe try checking out /r/90daysgoal/ ? I haven't join...  \n",
       "2  *Nobody* gives a fuck about depression. Rant on man. Thats what we're here for. I agree so much. They basically only care if they have to. Like my parents, well they were forced into this position. Like my brother, who doesn't give a shit to the fact that he drives down my mood by picking on my irritability. Like my friends, constantly saying \"they care and they're there for you\" but never showing it, not even trying. Like my school, that was forced to care about me the two weeks after coming out of A&E, and now does not give a shit.\\n\\nI'm sick and tired of empty words and people saying they care. Like fuck you and don't you dare say it if you don't actually care. Stop doing it to try and look good by doing it, doing it to reassure yourself you're a good person. If you care, fucking do something. Stop talking about how you're feeling dealing with me and how it's hard for you. Start talking about how I'm dealing with me and how it's hard for me to live with myself.         I agree ...  \n",
       "3  That last line made me smile. Thank you :) \"I'll outlive you, you stupid piece of shit.\"\\n\\nThat's the spirit. I would've never actually thought that thought, but thats right on the money.  >I told her I feel depressed and she said \"There's no such thing as depression\"\\n\\nYou're not losing anything of value by ending that relationship. What an asshole.         I know this post is old, but that last line made me smile. It's almost silly the kinds of things that keep us going sometimes. But they keep us trucking nonetheless. Made my bad night just a little better. Thank you.\\n\\nOh, and fuck her. She doesn't fucking deserve you, man. Dude I'm sorry you ex is such a bitch. Prove her wrong and have an awesome life Jesus, you did yourself a favor by breaking up with her.\\n\\nAlso, those last two sentences? Awesome stuff right there. That did not go in the direction I was expecting it to.  My justice boner is throbbing now. My ex was exactly like that. Pure poison. After we split, I told h...  \n",
       "4  I am in a similar place. Except the stupidest thing is holding me back. My cat. I raised him from a little tiny baby and I'm the only one in the world that knows him and loves him and no matter how much I hate myself or want to die I can't abandon this fuzzy little cat who's never shown me anything but love. I don't know what is best for anyone, but maybe if you get a dog or a cat and you know they depend on you it will help? It certainly hasn't stopped the depression but it stopped me from killing myself.  You don't want to kill yourself. Obviously not if you came on here looking for answers. Looking for help. Looking for a way to end your depression. Maybe just support. Or maybe I'm wrong and you just want everyone to know life isn't just sunshines and daisies. But if I'm right, and you do want help, that's what I want to offer. My help.\\n\\nFirst off, here's a list of guidelines or whatnot for depression.\\n1.) It sucks\\n2.) Drugs make it worse (prescription or otherwise)\\n3.) Cod...  \n",
       "\n",
       "[5 rows x 112 columns]"
      ]
     },
     "execution_count": 6,
     "metadata": {},
     "output_type": "execute_result"
    }
   ],
   "source": [
    "comments_polarity = comments[comments.com5.notnull()]\n",
    "comments_polarity = comments_polarity.reset_index(drop=True)\n",
    "comments_polarity.head()"
   ]
  },
  {
   "cell_type": "code",
   "execution_count": 7,
   "metadata": {
    "ExecuteTime": {
     "end_time": "2017-07-16T17:55:30.677950Z",
     "start_time": "2017-07-16T17:55:27.005826Z"
    },
    "collapsed": false
   },
   "outputs": [],
   "source": [
    "comments_polarities = comments_polarity[[\"com1\", \"com2\", \"com3\", \"com4\", \"com5\"]].applymap(lambda x: polarity(x))"
   ]
  },
  {
   "cell_type": "code",
   "execution_count": 8,
   "metadata": {
    "ExecuteTime": {
     "end_time": "2017-07-16T17:55:30.686849Z",
     "start_time": "2017-07-16T17:55:30.679583Z"
    },
    "collapsed": false
   },
   "outputs": [],
   "source": [
    "comments_polarities = comments_polarities.reset_index(drop=True)"
   ]
  },
  {
   "cell_type": "code",
   "execution_count": 9,
   "metadata": {
    "ExecuteTime": {
     "end_time": "2017-07-16T17:55:30.733759Z",
     "start_time": "2017-07-16T17:55:30.692088Z"
    },
    "collapsed": false
   },
   "outputs": [
    {
     "data": {
      "text/html": [
       "<div>\n",
       "<style>\n",
       "    .dataframe thead tr:only-child th {\n",
       "        text-align: right;\n",
       "    }\n",
       "\n",
       "    .dataframe thead th {\n",
       "        text-align: left;\n",
       "    }\n",
       "\n",
       "    .dataframe tbody tr th {\n",
       "        vertical-align: top;\n",
       "    }\n",
       "</style>\n",
       "<table border=\"1\" class=\"dataframe\">\n",
       "  <thead>\n",
       "    <tr style=\"text-align: right;\">\n",
       "      <th></th>\n",
       "      <th>com1</th>\n",
       "      <th>com2</th>\n",
       "      <th>com3</th>\n",
       "      <th>com4</th>\n",
       "      <th>com5</th>\n",
       "    </tr>\n",
       "  </thead>\n",
       "  <tbody>\n",
       "    <tr>\n",
       "      <th>0</th>\n",
       "      <td>-0.1761</td>\n",
       "      <td>0.6908</td>\n",
       "      <td>-0.0754</td>\n",
       "      <td>-0.1970</td>\n",
       "      <td>-0.9245</td>\n",
       "    </tr>\n",
       "    <tr>\n",
       "      <th>1</th>\n",
       "      <td>0.9825</td>\n",
       "      <td>0.9775</td>\n",
       "      <td>0.8920</td>\n",
       "      <td>0.9894</td>\n",
       "      <td>0.9200</td>\n",
       "    </tr>\n",
       "    <tr>\n",
       "      <th>2</th>\n",
       "      <td>-0.3400</td>\n",
       "      <td>0.7311</td>\n",
       "      <td>0.0000</td>\n",
       "      <td>-0.9337</td>\n",
       "      <td>0.0000</td>\n",
       "    </tr>\n",
       "    <tr>\n",
       "      <th>3</th>\n",
       "      <td>-0.2144</td>\n",
       "      <td>0.5719</td>\n",
       "      <td>-0.6696</td>\n",
       "      <td>0.4215</td>\n",
       "      <td>0.8640</td>\n",
       "    </tr>\n",
       "    <tr>\n",
       "      <th>4</th>\n",
       "      <td>-0.9982</td>\n",
       "      <td>0.6369</td>\n",
       "      <td>0.9039</td>\n",
       "      <td>0.9296</td>\n",
       "      <td>0.9314</td>\n",
       "    </tr>\n",
       "  </tbody>\n",
       "</table>\n",
       "</div>"
      ],
      "text/plain": [
       "     com1    com2    com3    com4    com5\n",
       "0 -0.1761  0.6908 -0.0754 -0.1970 -0.9245\n",
       "1  0.9825  0.9775  0.8920  0.9894  0.9200\n",
       "2 -0.3400  0.7311  0.0000 -0.9337  0.0000\n",
       "3 -0.2144  0.5719 -0.6696  0.4215  0.8640\n",
       "4 -0.9982  0.6369  0.9039  0.9296  0.9314"
      ]
     },
     "execution_count": 9,
     "metadata": {},
     "output_type": "execute_result"
    }
   ],
   "source": [
    "comments_polarities.head(5)"
   ]
  },
  {
   "cell_type": "code",
   "execution_count": 10,
   "metadata": {
    "ExecuteTime": {
     "end_time": "2017-07-16T17:55:30.781401Z",
     "start_time": "2017-07-16T17:55:30.735958Z"
    },
    "collapsed": true
   },
   "outputs": [],
   "source": [
    "comments_polarities[\"pmean\"]= comments_polarities.mean(axis=1)\n"
   ]
  },
  {
   "cell_type": "code",
   "execution_count": 52,
   "metadata": {
    "ExecuteTime": {
     "end_time": "2017-07-16T12:32:38.061575Z",
     "start_time": "2017-07-16T12:32:36.798996Z"
    },
    "collapsed": false
   },
   "outputs": [
    {
     "data": {
      "text/plain": [
       "<matplotlib.text.Text at 0x11963c1d0>"
      ]
     },
     "execution_count": 52,
     "metadata": {},
     "output_type": "execute_result"
    },
    {
     "data": {
      "image/png": "[encoded data removed]",
      "text/plain": [
       "<matplotlib.figure.Figure at 0x1196f4160>"
      ]
     },
     "metadata": {},
     "output_type": "display_data"
    }
   ],
   "source": [
    "sns.set_context(\"talk\")\n",
    "plt.style.use('fivethirtyeight')\n",
    "comments_polarities[\"pmean\"].hist(bins=10, color=\"green\")\n",
    "\n",
    "plt.xticks(fontsize=20, rotation=90)\n",
    "plt.yticks(fontsize=20)\n",
    "\n",
    "plt.title(\"Comment Polarity (for posts with 5+ comments)\", fontsize=30)"
   ]
  },
  {
   "cell_type": "markdown",
   "metadata": {},
   "source": [
    "Comments tends to be mostly neutral or positive, which probably attests to the community mostly wanting to help and heavy moderation."
   ]
  },
  {
   "cell_type": "code",
   "execution_count": 53,
   "metadata": {
    "ExecuteTime": {
     "end_time": "2017-07-16T12:34:04.172261Z",
     "start_time": "2017-07-16T12:34:03.286410Z"
    },
    "collapsed": false
   },
   "outputs": [
    {
     "data": {
      "text/html": [
       "<div>\n",
       "<style>\n",
       "    .dataframe thead tr:only-child th {\n",
       "        text-align: right;\n",
       "    }\n",
       "\n",
       "    .dataframe thead th {\n",
       "        text-align: left;\n",
       "    }\n",
       "\n",
       "    .dataframe tbody tr th {\n",
       "        vertical-align: top;\n",
       "    }\n",
       "</style>\n",
       "<table border=\"1\" class=\"dataframe\">\n",
       "  <thead>\n",
       "    <tr style=\"text-align: right;\">\n",
       "      <th></th>\n",
       "      <th>com1</th>\n",
       "      <th>com2</th>\n",
       "      <th>com3</th>\n",
       "      <th>id</th>\n",
       "      <th>type</th>\n",
       "    </tr>\n",
       "  </thead>\n",
       "  <tbody>\n",
       "    <tr>\n",
       "      <th>20</th>\n",
       "      <td>Yep. Mostly myself. Sometimes it turns outwardd.\\n\\nI think some famed philosopher said something about \"all knowledge is self knowledge\". That applies to evwrything. If you hate everything, it's likelybecause you hate yourself.</td>\n",
       "      <td>I just feel lonely as fuck, I don't hate people. I am easily spurred to anger, Its why I am starting to avoid people. \\n\\nI am more angry at myself than other people. \\n\\nI really don't like hating people, some people can be rude and people will not understand what it is like to be tortured as a kid.</td>\n",
       "      <td>Yes. Absolutely it does. \\n\\nOnce I started taking Prozac, I stopped arguing with my wife every day. So I think that helped reduce the anger. \\n\\nBut I'm still hate everything. Especially myself. \\n</td>\n",
       "      <td>4dtm1f</td>\n",
       "      <td>depression</td>\n",
       "    </tr>\n",
       "    <tr>\n",
       "      <th>23</th>\n",
       "      <td>It's only awkward if you make it awkward. I'm sure if you're getting drinks at a bar there will be TV's around you. Say something about what you're watching and just keep branching off topics. Talk about your childhood, funny shit that's happened to you and keep a smile on your face.</td>\n",
       "      <td>I believe in you homie</td>\n",
       "      <td>I think you should get all this out of your system, and then remind yourself that you are, in fact, exaggerating, and none of this is going to happen. I feel the same way too before social encounters -- it's going to be horrible, I'll be an awkward idiot, the conversation will go terribly, and the whole thing will be a disaster.\\n\\nWhen I actually get to the encounter, though, it almost never ends up going that way. For one thing, you have another person there who is also nervous, and who will also be doing their best to have a good time with you. So you don't have to shoulder the burden alone!\\n\\nTimes when I have had a disastrous encounter, though, have been when I've continued the negative self-talk all the way through the experience. That shit does make a difference. You can talk yourself into being terrible company. But it's not necessary at all. So you have to ask yourself, do I *want* this evening to suck? If not, then don't ensure that it will suck with negative talk. Just ...</td>\n",
       "      <td>4dt9or</td>\n",
       "      <td>depression</td>\n",
       "    </tr>\n",
       "  </tbody>\n",
       "</table>\n",
       "</div>"
      ],
      "text/plain": [
       "                                                                                                                                                                                                                                                                                            com1  \\\n",
       "20                                                          Yep. Mostly myself. Sometimes it turns outwardd.\\n\\nI think some famed philosopher said something about \"all knowledge is self knowledge\". That applies to evwrything. If you hate everything, it's likelybecause you hate yourself.   \n",
       "23  It's only awkward if you make it awkward. I'm sure if you're getting drinks at a bar there will be TV's around you. Say something about what you're watching and just keep branching off topics. Talk about your childhood, funny shit that's happened to you and keep a smile on your face.   \n",
       "\n",
       "                                                                                                                                                                                                                                                                                                             com2  \\\n",
       "20  I just feel lonely as fuck, I don't hate people. I am easily spurred to anger, Its why I am starting to avoid people. \\n\\nI am more angry at myself than other people. \\n\\nI really don't like hating people, some people can be rude and people will not understand what it is like to be tortured as a kid.   \n",
       "23                                                                                                                                                                                                                                                                                         I believe in you homie   \n",
       "\n",
       "                                                                                                                                                                                                                                                                                                                                                                                                                                                                                                                                                                                                                                                                                                                                                                                                                                                                                                                                                                                                                                       com3  \\\n",
       "20                                                                                                                                                                                                                                                                                                                                                                                                                                                                                                                                                                                                                                                                                                                                                                                                                                   Yes. Absolutely it does. \\n\\nOnce I started taking Prozac, I stopped arguing with my wife every day. So I think that helped reduce the anger. \\n\\nBut I'm still hate everything. Especially myself. \\n   \n",
       "23  I think you should get all this out of your system, and then remind yourself that you are, in fact, exaggerating, and none of this is going to happen. I feel the same way too before social encounters -- it's going to be horrible, I'll be an awkward idiot, the conversation will go terribly, and the whole thing will be a disaster.\\n\\nWhen I actually get to the encounter, though, it almost never ends up going that way. For one thing, you have another person there who is also nervous, and who will also be doing their best to have a good time with you. So you don't have to shoulder the burden alone!\\n\\nTimes when I have had a disastrous encounter, though, have been when I've continued the negative self-talk all the way through the experience. That shit does make a difference. You can talk yourself into being terrible company. But it's not necessary at all. So you have to ask yourself, do I *want* this evening to suck? If not, then don't ensure that it will suck with negative talk. Just ...   \n",
       "\n",
       "        id        type  \n",
       "20  4dtm1f  depression  \n",
       "23  4dt9or  depression  "
      ]
     },
     "execution_count": 53,
     "metadata": {},
     "output_type": "execute_result"
    }
   ],
   "source": [
    "comments_polarity[comments_polarities.pmean < -.4][[\"com1\",\"com2\", \"com3\", \"id\", \"type\" ]].head(2)"
   ]
  },
  {
   "cell_type": "markdown",
   "metadata": {},
   "source": [
    "The most negative comments seem to be a mixture of describing bad (but education) pasts/situations and self-loathing."
   ]
  },
  {
   "cell_type": "markdown",
   "metadata": {},
   "source": [
    "**Now let's move on to look at post polarity:**"
   ]
  },
  {
   "cell_type": "code",
   "execution_count": 11,
   "metadata": {
    "ExecuteTime": {
     "end_time": "2017-07-16T17:55:43.472308Z",
     "start_time": "2017-07-16T17:55:40.109264Z"
    },
    "collapsed": false
   },
   "outputs": [],
   "source": [
    "posts = pd.read_pickle(\"posts.pkl\")"
   ]
  },
  {
   "cell_type": "code",
   "execution_count": 12,
   "metadata": {
    "ExecuteTime": {
     "end_time": "2017-07-16T17:55:59.852304Z",
     "start_time": "2017-07-16T17:55:43.473906Z"
    },
    "collapsed": false
   },
   "outputs": [],
   "source": [
    "posts[\"polarity\"] = posts.total_text.apply(lambda x: polarity(x))"
   ]
  },
  {
   "cell_type": "code",
   "execution_count": 31,
   "metadata": {
    "ExecuteTime": {
     "end_time": "2017-07-16T12:25:16.166870Z",
     "start_time": "2017-07-16T12:25:16.110873Z"
    },
    "collapsed": false
   },
   "outputs": [
    {
     "data": {
      "text/plain": [
       "count    4313.000000\n",
       "mean       -0.275931\n",
       "std         0.762572\n",
       "min        -0.999900\n",
       "25%        -0.953800\n",
       "50%        -0.680800\n",
       "75%         0.557400\n",
       "max         0.999200\n",
       "Name: polarity, dtype: float64"
      ]
     },
     "execution_count": 31,
     "metadata": {},
     "output_type": "execute_result"
    }
   ],
   "source": [
    "posts.polarity.describe()"
   ]
  },
  {
   "cell_type": "code",
   "execution_count": 32,
   "metadata": {
    "ExecuteTime": {
     "end_time": "2017-07-16T12:25:29.475234Z",
     "start_time": "2017-07-16T12:25:24.195694Z"
    },
    "collapsed": false
   },
   "outputs": [
    {
     "data": {
      "text/plain": [
       "<matplotlib.text.Text at 0x11a071898>"
      ]
     },
     "execution_count": 32,
     "metadata": {},
     "output_type": "execute_result"
    },
    {
     "data": {
      "image/png": "[encoded data removed]",
      "text/plain": [
       "<matplotlib.figure.Figure at 0x10c9a4860>"
      ]
     },
     "metadata": {},
     "output_type": "display_data"
    }
   ],
   "source": [
    "posts[\"polarity\"].hist(bins=10, color=\"green\")\n",
    "\n",
    "plt.xticks(fontsize=20, rotation=90)\n",
    "plt.yticks(fontsize=20)\n",
    "\n",
    "plt.title(\"Posts Polarity\", fontsize=30)"
   ]
  },
  {
   "cell_type": "markdown",
   "metadata": {},
   "source": [
    "That's really interesting. I wonder why we see somewhat of a bimodal distribution of post polarity? The clusting in very negative polarity makes sense, but why are there also so many very positive posts? Let's explore this more."
   ]
  },
  {
   "cell_type": "markdown",
   "metadata": {},
   "source": [
    "First, let's grab roughly 400 each of the most negative and the most positive posts."
   ]
  },
  {
   "cell_type": "code",
   "execution_count": 13,
   "metadata": {
    "ExecuteTime": {
     "end_time": "2017-07-16T17:55:59.892377Z",
     "start_time": "2017-07-16T17:55:59.856016Z"
    },
    "collapsed": false
   },
   "outputs": [
    {
     "data": {
      "text/plain": [
       "(392, 13)"
      ]
     },
     "execution_count": 13,
     "metadata": {},
     "output_type": "execute_result"
    }
   ],
   "source": [
    "lowest = posts[posts.polarity < -.99]\n",
    "lowest.shape"
   ]
  },
  {
   "cell_type": "code",
   "execution_count": 14,
   "metadata": {
    "ExecuteTime": {
     "end_time": "2017-07-16T17:55:59.910885Z",
     "start_time": "2017-07-16T17:55:59.895541Z"
    },
    "collapsed": false
   },
   "outputs": [
    {
     "data": {
      "text/plain": [
       "(385, 13)"
      ]
     },
     "execution_count": 14,
     "metadata": {},
     "output_type": "execute_result"
    }
   ],
   "source": [
    "highest = posts[posts.polarity > .94]\n",
    "highest.shape"
   ]
  },
  {
   "cell_type": "markdown",
   "metadata": {},
   "source": [
    "Let's sample some of these posts to get an understanding of what makes a post negative and what makes a post positive."
   ]
  },
  {
   "cell_type": "code",
   "execution_count": 56,
   "metadata": {
    "ExecuteTime": {
     "end_time": "2017-07-16T12:35:32.895467Z",
     "start_time": "2017-07-16T12:35:32.563353Z"
    },
    "collapsed": false
   },
   "outputs": [
    {
     "data": {
      "text/html": [
       "<div>\n",
       "<style>\n",
       "    .dataframe thead tr:only-child th {\n",
       "        text-align: right;\n",
       "    }\n",
       "\n",
       "    .dataframe thead th {\n",
       "        text-align: left;\n",
       "    }\n",
       "\n",
       "    .dataframe tbody tr th {\n",
       "        vertical-align: top;\n",
       "    }\n",
       "</style>\n",
       "<table border=\"1\" class=\"dataframe\">\n",
       "  <thead>\n",
       "    <tr style=\"text-align: right;\">\n",
       "      <th></th>\n",
       "      <th>total_text</th>\n",
       "      <th>Type</th>\n",
       "    </tr>\n",
       "  </thead>\n",
       "  <tbody>\n",
       "    <tr>\n",
       "      <th>4302</th>\n",
       "      <td>Girlfriend not texting back I am currently in a long distance relationship, and whenever she doesn't text back or my messages aren't delivering I get this really weird fear that she's died for some reason. Like just this nagging fear and worry in the back of my head just enough so that it's constantly affecting me, but not debilitating me. I've had this same fear in past relationships too, but it just especially scares me just because it almost seems semi logical to conclude its very possible she could be dead, and the thought of her being dead terrifies me beyond belief. Does anyone else have this fear?</td>\n",
       "      <td>anxiety</td>\n",
       "    </tr>\n",
       "    <tr>\n",
       "      <th>1380</th>\n",
       "      <td>Revisiting memories from adolescence has me feeling like I'm on a one-way road to suicide. My stomach physically hurts with anger, resentment, and embarrassment. I have spent the past few weeks revisiting memories from my adolescence because of a course I'm taking in college. I have been realizing that I might have been psychologically abused by my parents. My parents have always been loving parents on the outside. We seem like a normal family. We have a wonderful relationship(?) 85% of the time; we have so many wonderful memories together. I love them with all of my heart, but I'm so confused about how. I'm confused to the point where I feel like my mind is ripped apart. I'm angry at myself because I sincerely thought that they were normal parents up until several weeks ago and that I was the screw-up, causing them to act the way they did. I can feel my desire to kill myself coming back (haven't felt it in probably ~6 months), and that's really scaring me. \\n\\nI don't think I *nee...</td>\n",
       "      <td>suicide</td>\n",
       "    </tr>\n",
       "    <tr>\n",
       "      <th>2153</th>\n",
       "      <td>Can't Tell If Brain Tumor Or Anxiety :/ Hey everybody,\\nSo a month ago the Brussels attacks had just happened. My friend was in Brussels for March Break, I talked to him all morning about how he was so lucky to make it out and not be caught up in the chaos. I left a comment on the top voted post about the attacks and headed off to 2nd period.\\n\\nI was in 2nd period and I see I got a reply to the comment, I opened it and it was a counter argument talking about how IsIs want us to fight back so they have a reason to keep terrorizing the world. Mid way reading through it my right side went numb (My face wasn't dropping and I could speak clearly.) I felt numb, overwhelmed, confused,I told myself that I was going to die and upset.\\n\\nI ended up going to the doctors on the same day, before that my school first aid assistance said she didn't think It was a stroke. My doctor checked me out and said she couldn't find anything wrong with me but to go to CHEO (Children's Hospital Of Ottawa) t...</td>\n",
       "      <td>suicide</td>\n",
       "    </tr>\n",
       "    <tr>\n",
       "      <th>2149</th>\n",
       "      <td>Do I have some sort of anxiety disorder? I'm 20, almost 21, and come this fall, I'll be a senior in college. My mental and physical health started to decline when I was about 17.  \\n\\nI'll start with my physical health problems:\\nI lost a lot of weight very quickly for prom in 2013, but that turned into a full-blown eating disorder. My weight has been yo-yoing ever since then. I'll repeatedly gain and lose the same 20-25 pounds every two months, which is obviously a result of my binge-restrict eating habits. My thyroid has slowed down as a result and my iron levels are insufficient. I'll sleep for 11-12 hours every night for two or three weeks, and for the next two or three weeks, I'll get 3-5 hours of sleep a night. \\n\\nNow for my mental health problems: \\nI am seriously obsessed with my body. I'm constantly volleying between counting every single calorie that I consume, to eating everything in sight without a care. The only constant is that I deeply hate myself. I think I'm fat, ...</td>\n",
       "      <td>suicide</td>\n",
       "    </tr>\n",
       "    <tr>\n",
       "      <th>3638</th>\n",
       "      <td>Confused and afraid Christ, I don't even know where to begin with this. Honestly I feel kind of stupid posting this here as I've calmed down a bit, but I realize that train of thought is counterproductive. If it matters, I'm 16 years old nearing the end of my sophomore year in high school.\\n\\nI have a couple of important assignments for school due tomorrow that I still have yet to start. Shouldn't really be a big deal - the assignments aren't all that bad and I've dealt with worse before. I realized that I should just sit down and get them done, but my brain had other plans.\\n\\nFor the past hour or so (or at least that's how it felt), I've just been pacing around my house/room trying my hardest not to break something or scream out of frustration with myself. I tried several times to just stop, breathe, and collect my thoughts, but it just kept going. My mind was an incoherent mess of self-hatred and fear, and overall I just felt disoriented. I don't want to say it's a panic attack ...</td>\n",
       "      <td>anxiety</td>\n",
       "    </tr>\n",
       "    <tr>\n",
       "      <th>2267</th>\n",
       "      <td>Six years of hidden hell, if not more, can't recall much from the past. Since I've finished high school, I had three attempts at graduating from university, none of them worked out. I mean, I'm on my third one now, it's the longest run and the only thing I have to do is to write a final paper. I already know though, I won't do it. There is no slight chance. I've been trying to write it for two years now, paid the university to not kick me out. Its only 40 pages and I can't do it. I just sit there, open up the OpenOffice and my mind becomes blank. It transfers into a terrible panic attack and I feel like my heart is going to explode. How the fuck can I be so weak to feel like dying about 40-page paper to write?\\n\\nI've been an anxiety man for longer than that. All the school years I was a pretty popular kid that everyone liked, but it's all thanks to my perfectly mastered masking skills. I've always been terrified of surroundings and people - I was, and I think I still am just way t...</td>\n",
       "      <td>suicide</td>\n",
       "    </tr>\n",
       "    <tr>\n",
       "      <th>1882</th>\n",
       "      <td>Why do I think it's cancer if I KNOW it's not? I'm posting this on a new account as I don't want my main account to have this on it, because, well, I'm scared.\\n\\nI've had a fear of cancer for about 2 years now, out of nowhere. I've been convinced I've had almost every form of cancer and now this one is a new one. Skin cancer.\\n\\nI have a big patch of reddish-brownish skin on my back, stomach and a little patch near one of my armpits and I've been assured by family (some of which that have had the same type of thing) that it's just skin fungus and I'm now taking cream for it. Apparently, that's not good enough for me to believe it. Even if the cream is making it slowly fade, I'm still scared. Why?\\n\\nNow, yesterday I looked at inner elbow and noticed a small dot of pinkish-flesh colored skin that looks sort of like the \"fungus\" on my side near my armpit. It's fungus right? Nope, it has to be cancer.\\n\\nI'm going to put the cream on it and schedule a doctors appointment next week if...</td>\n",
       "      <td>suicide</td>\n",
       "    </tr>\n",
       "    <tr>\n",
       "      <th>3697</th>\n",
       "      <td>i have a weird fear. am i going to die from this? ive had extreme anxiety now for the past 4 months. i worry alot since i feel real bland and no emotion sometimes and get violent thoughts. i know id never do anything bad but im still scared i would because of my thoughts and i literally feel like im going insane. nothing feels real, i dont feel real. i feel an unusual angry feeling all the time and my crazy feelings make me feel like i have some kind of desiase and im going to die. i find myself looking at my hands or other body parts and feeling like its not me controlling them or like they even belong to me. whenever i feel like wanting to be normal again i feel like i never will. be. i live like this every day and it just gets worse no matter what i do. im seriously scared im going to have a full mental and die. \\n\\nmy fear right now though is how when i try to feel a positive feeling i get these giant leaps in my heart every few seconds and the feeling of excitement or joy or h...</td>\n",
       "      <td>anxiety</td>\n",
       "    </tr>\n",
       "    <tr>\n",
       "      <th>4141</th>\n",
       "      <td>Anyone find their anxiety a blessing or a gift? I sometimes find anxiety to be a gift because it allows me to see things rationally and the way things are and seeing the truth in things than glossing over it\\n\\nIt also keeps me from doing things without thinking like impulsive spending and it makes me think before I do anything because I am so worried about making mistakes and regretting my choices \\n\\nAlso it made me take threats seriously so as a child my mom could give me extreme threats and I would always shape up because the anxiety gave me a boost to control my behavior. Also it made me hide from my mean nanny my mom unintentionally hired. Also the anxiety allowed me to observe other people so I wouldn't do their mistakes and get screamed at and get in trouble like they did. \\n\\nI wasn't diagnosed with anxiety until 6th grade and I look back and realize I have probably had it my whole life but it wasn't prominent then. But at the same time it is also a curse because it holds ...</td>\n",
       "      <td>anxiety</td>\n",
       "    </tr>\n",
       "    <tr>\n",
       "      <th>1384</th>\n",
       "      <td>I won't do it but... Hi people here.\\n\\nWell, a short brief of my life. I'm 24 years old, i've been struggling with alcohol since age 14. My parents were separated, and i lived with my father. My father was extremly verbal abusive, which slowly killed all my self-esteem away. I'm pretty sure it's quite a familiar feeling for a few people here...\\n\\nAnyways, i've drank my first glass of alcohol at the age 13. When i was 14, i realized \"it helps\". So, i was stressed out during weekdays, and when weekend came, we drank with our friends (in my country it was absolutely possible to get alcohol as a child back then). \\n\\nAround the age 17 i've started to get horrible fear-like feeling from nothing. I told no one, because i thought it's only my blood pressure or something. As slowly it developed, i told my mother, and she knew it was panic disorder, since in my family it is almost like contagious -also alcoholism-.\\n\\nI've started to drink more and more, to cure this. I refused any psychi...</td>\n",
       "      <td>suicide</td>\n",
       "    </tr>\n",
       "  </tbody>\n",
       "</table>\n",
       "</div>"
      ],
      "text/plain": [
       "                                                                                                                                                                                                                                                                                                                                                                                                                                                                                                                                                                                                                                                                                                                                                                                                                                                                                                                                                                                                                                   total_text  \\\n",
       "4302                                                                                                                                                                                                                                                                                                                                                                                                      Girlfriend not texting back I am currently in a long distance relationship, and whenever she doesn't text back or my messages aren't delivering I get this really weird fear that she's died for some reason. Like just this nagging fear and worry in the back of my head just enough so that it's constantly affecting me, but not debilitating me. I've had this same fear in past relationships too, but it just especially scares me just because it almost seems semi logical to conclude its very possible she could be dead, and the thought of her being dead terrifies me beyond belief. Does anyone else have this fear?   \n",
       "1380  Revisiting memories from adolescence has me feeling like I'm on a one-way road to suicide. My stomach physically hurts with anger, resentment, and embarrassment. I have spent the past few weeks revisiting memories from my adolescence because of a course I'm taking in college. I have been realizing that I might have been psychologically abused by my parents. My parents have always been loving parents on the outside. We seem like a normal family. We have a wonderful relationship(?) 85% of the time; we have so many wonderful memories together. I love them with all of my heart, but I'm so confused about how. I'm confused to the point where I feel like my mind is ripped apart. I'm angry at myself because I sincerely thought that they were normal parents up until several weeks ago and that I was the screw-up, causing them to act the way they did. I can feel my desire to kill myself coming back (haven't felt it in probably ~6 months), and that's really scaring me. \\n\\nI don't think I *nee...   \n",
       "2153  Can't Tell If Brain Tumor Or Anxiety :/ Hey everybody,\\nSo a month ago the Brussels attacks had just happened. My friend was in Brussels for March Break, I talked to him all morning about how he was so lucky to make it out and not be caught up in the chaos. I left a comment on the top voted post about the attacks and headed off to 2nd period.\\n\\nI was in 2nd period and I see I got a reply to the comment, I opened it and it was a counter argument talking about how IsIs want us to fight back so they have a reason to keep terrorizing the world. Mid way reading through it my right side went numb (My face wasn't dropping and I could speak clearly.) I felt numb, overwhelmed, confused,I told myself that I was going to die and upset.\\n\\nI ended up going to the doctors on the same day, before that my school first aid assistance said she didn't think It was a stroke. My doctor checked me out and said she couldn't find anything wrong with me but to go to CHEO (Children's Hospital Of Ottawa) t...   \n",
       "2149  Do I have some sort of anxiety disorder? I'm 20, almost 21, and come this fall, I'll be a senior in college. My mental and physical health started to decline when I was about 17.  \\n\\nI'll start with my physical health problems:\\nI lost a lot of weight very quickly for prom in 2013, but that turned into a full-blown eating disorder. My weight has been yo-yoing ever since then. I'll repeatedly gain and lose the same 20-25 pounds every two months, which is obviously a result of my binge-restrict eating habits. My thyroid has slowed down as a result and my iron levels are insufficient. I'll sleep for 11-12 hours every night for two or three weeks, and for the next two or three weeks, I'll get 3-5 hours of sleep a night. \\n\\nNow for my mental health problems: \\nI am seriously obsessed with my body. I'm constantly volleying between counting every single calorie that I consume, to eating everything in sight without a care. The only constant is that I deeply hate myself. I think I'm fat, ...   \n",
       "3638  Confused and afraid Christ, I don't even know where to begin with this. Honestly I feel kind of stupid posting this here as I've calmed down a bit, but I realize that train of thought is counterproductive. If it matters, I'm 16 years old nearing the end of my sophomore year in high school.\\n\\nI have a couple of important assignments for school due tomorrow that I still have yet to start. Shouldn't really be a big deal - the assignments aren't all that bad and I've dealt with worse before. I realized that I should just sit down and get them done, but my brain had other plans.\\n\\nFor the past hour or so (or at least that's how it felt), I've just been pacing around my house/room trying my hardest not to break something or scream out of frustration with myself. I tried several times to just stop, breathe, and collect my thoughts, but it just kept going. My mind was an incoherent mess of self-hatred and fear, and overall I just felt disoriented. I don't want to say it's a panic attack ...   \n",
       "2267  Six years of hidden hell, if not more, can't recall much from the past. Since I've finished high school, I had three attempts at graduating from university, none of them worked out. I mean, I'm on my third one now, it's the longest run and the only thing I have to do is to write a final paper. I already know though, I won't do it. There is no slight chance. I've been trying to write it for two years now, paid the university to not kick me out. Its only 40 pages and I can't do it. I just sit there, open up the OpenOffice and my mind becomes blank. It transfers into a terrible panic attack and I feel like my heart is going to explode. How the fuck can I be so weak to feel like dying about 40-page paper to write?\\n\\nI've been an anxiety man for longer than that. All the school years I was a pretty popular kid that everyone liked, but it's all thanks to my perfectly mastered masking skills. I've always been terrified of surroundings and people - I was, and I think I still am just way t...   \n",
       "1882  Why do I think it's cancer if I KNOW it's not? I'm posting this on a new account as I don't want my main account to have this on it, because, well, I'm scared.\\n\\nI've had a fear of cancer for about 2 years now, out of nowhere. I've been convinced I've had almost every form of cancer and now this one is a new one. Skin cancer.\\n\\nI have a big patch of reddish-brownish skin on my back, stomach and a little patch near one of my armpits and I've been assured by family (some of which that have had the same type of thing) that it's just skin fungus and I'm now taking cream for it. Apparently, that's not good enough for me to believe it. Even if the cream is making it slowly fade, I'm still scared. Why?\\n\\nNow, yesterday I looked at inner elbow and noticed a small dot of pinkish-flesh colored skin that looks sort of like the \"fungus\" on my side near my armpit. It's fungus right? Nope, it has to be cancer.\\n\\nI'm going to put the cream on it and schedule a doctors appointment next week if...   \n",
       "3697  i have a weird fear. am i going to die from this? ive had extreme anxiety now for the past 4 months. i worry alot since i feel real bland and no emotion sometimes and get violent thoughts. i know id never do anything bad but im still scared i would because of my thoughts and i literally feel like im going insane. nothing feels real, i dont feel real. i feel an unusual angry feeling all the time and my crazy feelings make me feel like i have some kind of desiase and im going to die. i find myself looking at my hands or other body parts and feeling like its not me controlling them or like they even belong to me. whenever i feel like wanting to be normal again i feel like i never will. be. i live like this every day and it just gets worse no matter what i do. im seriously scared im going to have a full mental and die. \\n\\nmy fear right now though is how when i try to feel a positive feeling i get these giant leaps in my heart every few seconds and the feeling of excitement or joy or h...   \n",
       "4141  Anyone find their anxiety a blessing or a gift? I sometimes find anxiety to be a gift because it allows me to see things rationally and the way things are and seeing the truth in things than glossing over it\\n\\nIt also keeps me from doing things without thinking like impulsive spending and it makes me think before I do anything because I am so worried about making mistakes and regretting my choices \\n\\nAlso it made me take threats seriously so as a child my mom could give me extreme threats and I would always shape up because the anxiety gave me a boost to control my behavior. Also it made me hide from my mean nanny my mom unintentionally hired. Also the anxiety allowed me to observe other people so I wouldn't do their mistakes and get screamed at and get in trouble like they did. \\n\\nI wasn't diagnosed with anxiety until 6th grade and I look back and realize I have probably had it my whole life but it wasn't prominent then. But at the same time it is also a curse because it holds ...   \n",
       "1384  I won't do it but... Hi people here.\\n\\nWell, a short brief of my life. I'm 24 years old, i've been struggling with alcohol since age 14. My parents were separated, and i lived with my father. My father was extremly verbal abusive, which slowly killed all my self-esteem away. I'm pretty sure it's quite a familiar feeling for a few people here...\\n\\nAnyways, i've drank my first glass of alcohol at the age 13. When i was 14, i realized \"it helps\". So, i was stressed out during weekdays, and when weekend came, we drank with our friends (in my country it was absolutely possible to get alcohol as a child back then). \\n\\nAround the age 17 i've started to get horrible fear-like feeling from nothing. I told no one, because i thought it's only my blood pressure or something. As slowly it developed, i told my mother, and she knew it was panic disorder, since in my family it is almost like contagious -also alcoholism-.\\n\\nI've started to drink more and more, to cure this. I refused any psychi...   \n",
       "\n",
       "         Type  \n",
       "4302  anxiety  \n",
       "1380  suicide  \n",
       "2153  suicide  \n",
       "2149  suicide  \n",
       "3638  anxiety  \n",
       "2267  suicide  \n",
       "1882  suicide  \n",
       "3697  anxiety  \n",
       "4141  anxiety  \n",
       "1384  suicide  "
      ]
     },
     "execution_count": 56,
     "metadata": {},
     "output_type": "execute_result"
    }
   ],
   "source": [
    "lowest[[\"total_text\", \"Type\"]].sample(10)"
   ]
  },
  {
   "cell_type": "markdown",
   "metadata": {},
   "source": [
    "These posts definitely seem very dismal, people seem very lost, and feature lots of ranting, negative language and cursing."
   ]
  },
  {
   "cell_type": "code",
   "execution_count": 57,
   "metadata": {
    "ExecuteTime": {
     "end_time": "2017-07-16T12:35:39.158168Z",
     "start_time": "2017-07-16T12:35:39.061478Z"
    },
    "collapsed": false
   },
   "outputs": [
    {
     "data": {
      "text/html": [
       "<div>\n",
       "<style>\n",
       "    .dataframe thead tr:only-child th {\n",
       "        text-align: right;\n",
       "    }\n",
       "\n",
       "    .dataframe thead th {\n",
       "        text-align: left;\n",
       "    }\n",
       "\n",
       "    .dataframe tbody tr th {\n",
       "        vertical-align: top;\n",
       "    }\n",
       "</style>\n",
       "<table border=\"1\" class=\"dataframe\">\n",
       "  <thead>\n",
       "    <tr style=\"text-align: right;\">\n",
       "      <th></th>\n",
       "      <th>total_text</th>\n",
       "      <th>Type</th>\n",
       "    </tr>\n",
       "  </thead>\n",
       "  <tbody>\n",
       "    <tr>\n",
       "      <th>3487</th>\n",
       "      <td>Looking for a new psychologist since I can't go to my old one anymore. And well...is it bad to decide NOT to go to a certain psychologist because of the stuff they post online? So, my college offered free sessions with a psychologist. All my sessions have run out so I have to find someone that takes my insurance. Anyway, my insurance gave me a name of a psychologist 15 minutes away from me.\\n\\nHe has good reviews, but...his social media is public. And well, he just makes super judge-y posts online. Making fun of people for how they dress. Comes off as really racist too....and well, seems like a really mean person.\\n\\nErrrr, would you go to him regardless? Cuz part of me is like, \"well, that's just how he is online. He has to do his job when he sees me and be respectful.\" But at the same time, I feel like he'll be silently judging me...maybe he'd make fun of me on his social media.\\n\\nI just...idk.\\n\\nI asked for more names, but they gave me 2 other psychologists that I don't think ...</td>\n",
       "      <td>anxiety</td>\n",
       "    </tr>\n",
       "    <tr>\n",
       "      <th>77</th>\n",
       "      <td>What natural remedies have worked for you? I'm in my fourth month of depression. I frequently get dark thoughts about ending it and really want to get out of this hole. \\nI exercise regularly and eat a balanced diet. Sometimes I meditate and do yoga. But these things arent helping me with self content and calmness. I was seeing a therapist but am not anymore as I quit uni and no longer have access.\\nI don't really want to resort to medication if I can help it. \\nHave you found anything that helped for you? Such as certain vitamins, online content, ways of reaching out and getting better etc.? Activities you found helped? Thanks for taking the time to chat.</td>\n",
       "      <td>depression</td>\n",
       "    </tr>\n",
       "    <tr>\n",
       "      <th>1591</th>\n",
       "      <td>What's the point anymore? I lost all hope and idealism I had When I was 20 I fell in love with a wonderful girl. I was with her for 6 years and I was so incredibly happy. She broke my heart when she cheated on me and I lost part of myself. When I was 28 I met another girl and somehow fell in love with her as well. We were together 7 years and got married inbetween. She broke my heart as well and left me. I lost all hope and idealism of ever having a loving partner.\\n\\nWhat's the point if they all end up leaving me after a few years? I'm not a bad person and I don't deserve this unhappiness. What's the point if it's all so artificial? Being together a few years and then the relationship dies. I'm 35 now, already past the prime of my life and I have nothing. I always thought I'd be married with a woman I love and having a family to take care of. But that didn't happen. I've just been destroyed emotionally twice by two women who meant everything to me. I would've taken a bulelt for th...</td>\n",
       "      <td>suicide</td>\n",
       "    </tr>\n",
       "    <tr>\n",
       "      <th>2074</th>\n",
       "      <td>Strange Reflex - Anyone Else? **Preamble**: I am scientifically investigating if there is a link between anxiety and this reflex of mine. Any help would be appreciated!\\n\\n* Age: 25\\n* Sex: M\\n* Height: 5'10\"\\n* Weight: 140 lbs\\n* Race: Asian\\n* Any existing relevant medical issues: Hyperhidrosis (palmar &amp; plantar), anxiety (chicken or egg with the hyperhidrosis)\\n* Current medications: glycopyrrolate for hyperhidrosis\\n\\n**Description**: \\nI can perform a reflex (as I term it, as I can voluntarily control it) which produces what feels like \"activated nerves\" and starts either at the base of the spine/groin area and travels upwards along the spine. It also may be produced starting at the neck part of the spine and emanates downwards. The effect makes me feel \"heightened\" or more alert and it requires effort to keep the \"reflex\" activated, although I can willingly turn it on/off.\\nI have been able to activate this reflex since I was a pre-teen.\\n\\n**Addendum**: \\n* I have performed ...</td>\n",
       "      <td>suicide</td>\n",
       "    </tr>\n",
       "    <tr>\n",
       "      <th>3684</th>\n",
       "      <td>Does it ever hit you that people without anxiety can do things so easily? For example, my parents are going away for a week later this year. I don't want to be at home alone, but I can't sleep out of my house, I haven't slept out in at least 10 years.\\n\\nI asked a friend if they would mind sleeping over and they were like \"Sure! I'd be glad to\".\\n\\nI was like, what, they just agreed like that??? They're so cool with sleeping out???? What???? Aren't they going to miss their bed? And pets? And family? \\n\\nSo weird to me.</td>\n",
       "      <td>anxiety</td>\n",
       "    </tr>\n",
       "    <tr>\n",
       "      <th>2313</th>\n",
       "      <td>Anxiety dreams Hi all, new poster! I've grappled with generalized anxiety since puberty, really, but it was always fairly manageable. As I'm getting older and life becomes naturally more uncertain, coupled with making more decisions for myself, it has returned in a way that I can only describe as \"deeper\" than before. \\n\\nOne of the manifestations is my dreams. Even on a good day- where I may know I have anxiety about this or that thing, but it's not overwhelming, where I've managed to be generally productive, healthy and happy- I'll have a terrible dream. Sometimes these dreams are surreal; a situation of high specificity, unlikely to ever happen, that is clearly an abstraction of a deep worry. Other times, they are very true to life, a plain enactment of something I fear. The man I love telling me he's sleeping with other women, for instance. It plays out like it would in real life. \\n\\nWith either type I generally wake up around the \"climax\" or worst moment of the dream, often w...</td>\n",
       "      <td>suicide</td>\n",
       "    </tr>\n",
       "    <tr>\n",
       "      <th>1594</th>\n",
       "      <td>Why is life so hard? I'll start out by saying that my story seems extremely petty compared to a lot of what goes on here. But nevertheless whatever I have gone through has seriously made me question why I should even live. I have questioned living probably ever since sixth grade. I’d pray to god many nights that something killed me so I wouldn’t have to face the hardship the next day. And I’ve noticed that every time I do, it’s because of things that are hard that I don’t want to accomplish. I guess that despite all of those times, I have evidently faced the challenge in some way because I am still here today in college. Because all of my life has been me as a student, it’s mostly been tests in subjects that I don’t do well in that I consider the hardships that I don’t want to face. Also I’ve never had big issues with my parents. 9 times out of 10, they are clearly just looking out for my well-being and success in later life. And I am very fortunate to have non-abusive parents who ...</td>\n",
       "      <td>suicide</td>\n",
       "    </tr>\n",
       "    <tr>\n",
       "      <th>2484</th>\n",
       "      <td>Hi, i'd like some personalized advice if possible. How do you overcome/improve social anxiety? Hi, so I'll provide a bit more information and give a general overview of the context of this question. It may be long and possibly a little depressing.\\n\\nI’ve struggled with social anxiety for probably about 7 years. I was diagnosed with Leukaemia at an early age and did get successful treatment. However, the repercussions of this was that I started to develop OCD, blunder my speech more and become more nit-picky about how I appeared to others (i won't exactly say why).\\n\\nI’ll just list the common problems I have (if anybody has a similar issue, please share it):\\n\\n-I’m terrible at explaining anything when talking to others, because I always backtrack and don’t think through what I’m actually saying. This will eventuate in repetition, stutters and a general lack of flow in any story or joke I’m trying to express. This style of descriptions sucks any impact out of everything I say, so ...</td>\n",
       "      <td>suicide</td>\n",
       "    </tr>\n",
       "    <tr>\n",
       "      <th>1196</th>\n",
       "      <td>Does anybody feel the same way about love as I do? Hello, unfortunate passerby.  Thanks for stopping by.  You may recognize what I'm about to say.  I've gone through a handful of throwaway accounts on various subreddits only to be downvoted to hell.\\n\\nLove, for lack of a better phrase is bullshit, as I see it.  It seems like everybody is constantly telling me it's this great emotion and when they tell me that, I scream on the inside.  Love is *not* a great emotion.  Love has made me feel entirely inadequate.  Incapable of friendship, companionship, love and everything else that goes with it.\\n\\nI know I'm never going to fall in love.  Nobody is ever going to want me.  Then, when I come on here and say these things, the downvotes are telling me to shut my fucking mouth because nobody cares about me and my anti-love attitude.\\n\\nThat's about it.  Thanks for your time.</td>\n",
       "      <td>depression</td>\n",
       "    </tr>\n",
       "    <tr>\n",
       "      <th>471</th>\n",
       "      <td>Help. Nothing is going right for me right now. Most of my friends are drifting away to other friend groups and are starting to care less about me. My grades are slipping in school, and it seems like i cannot do anything right. I do not know what to do. Please help.</td>\n",
       "      <td>depression</td>\n",
       "    </tr>\n",
       "  </tbody>\n",
       "</table>\n",
       "</div>"
      ],
      "text/plain": [
       "                                                                                                                                                                                                                                                                                                                                                                                                                                                                                                                                                                                                                                                                                                                                                                                                                                                                                                                                                                                                                                   total_text  \\\n",
       "3487  Looking for a new psychologist since I can't go to my old one anymore. And well...is it bad to decide NOT to go to a certain psychologist because of the stuff they post online? So, my college offered free sessions with a psychologist. All my sessions have run out so I have to find someone that takes my insurance. Anyway, my insurance gave me a name of a psychologist 15 minutes away from me.\\n\\nHe has good reviews, but...his social media is public. And well, he just makes super judge-y posts online. Making fun of people for how they dress. Comes off as really racist too....and well, seems like a really mean person.\\n\\nErrrr, would you go to him regardless? Cuz part of me is like, \"well, that's just how he is online. He has to do his job when he sees me and be respectful.\" But at the same time, I feel like he'll be silently judging me...maybe he'd make fun of me on his social media.\\n\\nI just...idk.\\n\\nI asked for more names, but they gave me 2 other psychologists that I don't think ...   \n",
       "77                                                                                                                                                                                                                                                                                                                                                   What natural remedies have worked for you? I'm in my fourth month of depression. I frequently get dark thoughts about ending it and really want to get out of this hole. \\nI exercise regularly and eat a balanced diet. Sometimes I meditate and do yoga. But these things arent helping me with self content and calmness. I was seeing a therapist but am not anymore as I quit uni and no longer have access.\\nI don't really want to resort to medication if I can help it. \\nHave you found anything that helped for you? Such as certain vitamins, online content, ways of reaching out and getting better etc.? Activities you found helped? Thanks for taking the time to chat.   \n",
       "1591  What's the point anymore? I lost all hope and idealism I had When I was 20 I fell in love with a wonderful girl. I was with her for 6 years and I was so incredibly happy. She broke my heart when she cheated on me and I lost part of myself. When I was 28 I met another girl and somehow fell in love with her as well. We were together 7 years and got married inbetween. She broke my heart as well and left me. I lost all hope and idealism of ever having a loving partner.\\n\\nWhat's the point if they all end up leaving me after a few years? I'm not a bad person and I don't deserve this unhappiness. What's the point if it's all so artificial? Being together a few years and then the relationship dies. I'm 35 now, already past the prime of my life and I have nothing. I always thought I'd be married with a woman I love and having a family to take care of. But that didn't happen. I've just been destroyed emotionally twice by two women who meant everything to me. I would've taken a bulelt for th...   \n",
       "2074  Strange Reflex - Anyone Else? **Preamble**: I am scientifically investigating if there is a link between anxiety and this reflex of mine. Any help would be appreciated!\\n\\n* Age: 25\\n* Sex: M\\n* Height: 5'10\"\\n* Weight: 140 lbs\\n* Race: Asian\\n* Any existing relevant medical issues: Hyperhidrosis (palmar & plantar), anxiety (chicken or egg with the hyperhidrosis)\\n* Current medications: glycopyrrolate for hyperhidrosis\\n\\n**Description**: \\nI can perform a reflex (as I term it, as I can voluntarily control it) which produces what feels like \"activated nerves\" and starts either at the base of the spine/groin area and travels upwards along the spine. It also may be produced starting at the neck part of the spine and emanates downwards. The effect makes me feel \"heightened\" or more alert and it requires effort to keep the \"reflex\" activated, although I can willingly turn it on/off.\\nI have been able to activate this reflex since I was a pre-teen.\\n\\n**Addendum**: \\n* I have performed ...   \n",
       "3684                                                                                                                                                                                                                                                                                                                                                                                                                                                                                             Does it ever hit you that people without anxiety can do things so easily? For example, my parents are going away for a week later this year. I don't want to be at home alone, but I can't sleep out of my house, I haven't slept out in at least 10 years.\\n\\nI asked a friend if they would mind sleeping over and they were like \"Sure! I'd be glad to\".\\n\\nI was like, what, they just agreed like that??? They're so cool with sleeping out???? What???? Aren't they going to miss their bed? And pets? And family? \\n\\nSo weird to me.   \n",
       "2313  Anxiety dreams Hi all, new poster! I've grappled with generalized anxiety since puberty, really, but it was always fairly manageable. As I'm getting older and life becomes naturally more uncertain, coupled with making more decisions for myself, it has returned in a way that I can only describe as \"deeper\" than before. \\n\\nOne of the manifestations is my dreams. Even on a good day- where I may know I have anxiety about this or that thing, but it's not overwhelming, where I've managed to be generally productive, healthy and happy- I'll have a terrible dream. Sometimes these dreams are surreal; a situation of high specificity, unlikely to ever happen, that is clearly an abstraction of a deep worry. Other times, they are very true to life, a plain enactment of something I fear. The man I love telling me he's sleeping with other women, for instance. It plays out like it would in real life. \\n\\nWith either type I generally wake up around the \"climax\" or worst moment of the dream, often w...   \n",
       "1594  Why is life so hard? I'll start out by saying that my story seems extremely petty compared to a lot of what goes on here. But nevertheless whatever I have gone through has seriously made me question why I should even live. I have questioned living probably ever since sixth grade. I’d pray to god many nights that something killed me so I wouldn’t have to face the hardship the next day. And I’ve noticed that every time I do, it’s because of things that are hard that I don’t want to accomplish. I guess that despite all of those times, I have evidently faced the challenge in some way because I am still here today in college. Because all of my life has been me as a student, it’s mostly been tests in subjects that I don’t do well in that I consider the hardships that I don’t want to face. Also I’ve never had big issues with my parents. 9 times out of 10, they are clearly just looking out for my well-being and success in later life. And I am very fortunate to have non-abusive parents who ...   \n",
       "2484  Hi, i'd like some personalized advice if possible. How do you overcome/improve social anxiety? Hi, so I'll provide a bit more information and give a general overview of the context of this question. It may be long and possibly a little depressing.\\n\\nI’ve struggled with social anxiety for probably about 7 years. I was diagnosed with Leukaemia at an early age and did get successful treatment. However, the repercussions of this was that I started to develop OCD, blunder my speech more and become more nit-picky about how I appeared to others (i won't exactly say why).\\n\\nI’ll just list the common problems I have (if anybody has a similar issue, please share it):\\n\\n-I’m terrible at explaining anything when talking to others, because I always backtrack and don’t think through what I’m actually saying. This will eventuate in repetition, stutters and a general lack of flow in any story or joke I’m trying to express. This style of descriptions sucks any impact out of everything I say, so ...   \n",
       "1196                                                                                                                          Does anybody feel the same way about love as I do? Hello, unfortunate passerby.  Thanks for stopping by.  You may recognize what I'm about to say.  I've gone through a handful of throwaway accounts on various subreddits only to be downvoted to hell.\\n\\nLove, for lack of a better phrase is bullshit, as I see it.  It seems like everybody is constantly telling me it's this great emotion and when they tell me that, I scream on the inside.  Love is *not* a great emotion.  Love has made me feel entirely inadequate.  Incapable of friendship, companionship, love and everything else that goes with it.\\n\\nI know I'm never going to fall in love.  Nobody is ever going to want me.  Then, when I come on here and say these things, the downvotes are telling me to shut my fucking mouth because nobody cares about me and my anti-love attitude.\\n\\nThat's about it.  Thanks for your time.   \n",
       "471                                                                                                                                                                                                                                                                                                                                                                                                                                                                                                                                                                                                                                                                                                                                                                 Help. Nothing is going right for me right now. Most of my friends are drifting away to other friend groups and are starting to care less about me. My grades are slipping in school, and it seems like i cannot do anything right. I do not know what to do. Please help.   \n",
       "\n",
       "            Type  \n",
       "3487     anxiety  \n",
       "77    depression  \n",
       "1591     suicide  \n",
       "2074     suicide  \n",
       "3684     anxiety  \n",
       "2313     suicide  \n",
       "1594     suicide  \n",
       "2484     suicide  \n",
       "1196  depression  \n",
       "471   depression  "
      ]
     },
     "execution_count": 57,
     "metadata": {},
     "output_type": "execute_result"
    }
   ],
   "source": [
    "highest[[\"total_text\", \"Type\"]].sample(10)"
   ]
  },
  {
   "cell_type": "markdown",
   "metadata": {},
   "source": [
    "These are definitely not \"positive\", but definitely more netural tone than the negative ones. Overall, these posts tend to lean more optimistic and solution-oriented."
   ]
  },
  {
   "cell_type": "code",
   "execution_count": 58,
   "metadata": {
    "ExecuteTime": {
     "end_time": "2017-07-16T12:45:25.916273Z",
     "start_time": "2017-07-16T12:45:25.097149Z"
    },
    "collapsed": false
   },
   "outputs": [
    {
     "data": {
      "text/plain": [
       "suicide       157\n",
       "depression    126\n",
       "anxiety       109\n",
       "Name: Type, dtype: int64"
      ]
     },
     "execution_count": 58,
     "metadata": {},
     "output_type": "execute_result"
    }
   ],
   "source": [
    "lowest.Type.value_counts()"
   ]
  },
  {
   "cell_type": "code",
   "execution_count": 59,
   "metadata": {
    "ExecuteTime": {
     "end_time": "2017-07-16T12:45:28.466838Z",
     "start_time": "2017-07-16T12:45:28.386692Z"
    },
    "collapsed": false
   },
   "outputs": [
    {
     "data": {
      "text/plain": [
       "suicide       159\n",
       "depression    126\n",
       "anxiety       100\n",
       "Name: Type, dtype: int64"
      ]
     },
     "execution_count": 59,
     "metadata": {},
     "output_type": "execute_result"
    }
   ],
   "source": [
    "highest.Type.value_counts()"
   ]
  },
  {
   "cell_type": "markdown",
   "metadata": {},
   "source": [
    "Not a whole lot of difference in post type between the two groups (remember that there were more suicide posts to begin with)."
   ]
  },
  {
   "cell_type": "markdown",
   "metadata": {},
   "source": [
    "While looking at the differences between negative and positive polarity posts, I ended up down a rabbit hole in which I looked at generic vs non-generic drug and coping strategies. Generic coping or medicine would be words like \"doctor\" or \"exercise\". While non-generic would be specific drug names like \"Cymbalta\", or specific types of treatment like \"transcental meditation\". My final code for exploring these posts is reproduced here.\n",
    "\n",
    "\n"
   ]
  },
  {
   "cell_type": "code",
   "execution_count": 15,
   "metadata": {
    "ExecuteTime": {
     "end_time": "2017-07-16T17:56:08.629759Z",
     "start_time": "2017-07-16T17:56:08.617006Z"
    },
    "collapsed": false
   },
   "outputs": [],
   "source": [
    "specific_drug =  [\"desvenlafaxine\", \"Pristiq\", \"Khedezla\", \"duloxetine\" , \"Cymbalta\", \"levomilnacipran\", \"Fetzima\",\n",
    "                \"venlafaxine\", \"Effexor\", \"amitriptyline\", \"Anafranil\", \"clomipramine\" , \"Norpramin\", \"doxepin\",\n",
    "                  \"imipramine\", \"Tofranil\", \"protriptyline\" , \"trimipramine\", \"Surmontil\", \"Maprotiline\",\n",
    "                  \"Bupropion\", \"Wellbutrin\", \"Forfivo\", \"Aplenzin\" , \"vilazodone\", \"Viibryd\" , \"nefazodone\",\n",
    "                  \"trazodone\", \"Oleptro\",  \"Marplan\", \"isocarboxazid\", \"phenelzine\", \"nardil\", \"selgiline\", \"emsam\",\n",
    "                  \"tranylcypromine\", \"parnate\", \"SAMe\", \"sertraline\", \"zoloft\", \"prozac\", \"sarafem\", \"citalopram\",\n",
    "                  \"celexa\", \"escitalopram\", \"lexapro\", \"paroxetine\", \"paxil\", \"pexeva\", \"brisdelle\", \"fluvoxamine\", \"luvox\",\n",
    "                  \"xanax\", \"Alprazolam\", \"valium\", \"lyrica\", \"seroquel\"]\n",
    "generic_medicine = [\"medication\", \"medicate\", \"doctor\", \"psychiatrist\"]\n",
    "generic_treatment = [\"meditation\",\"exercise\"]\n",
    "specific_treatment = [\"transcendental\",\"Transcendental\", \"lifting\", \"weights\", \"jogging\", \"vipassana\", \"yoga\" ]"
   ]
  },
  {
   "cell_type": "code",
   "execution_count": 16,
   "metadata": {
    "ExecuteTime": {
     "end_time": "2017-07-16T17:58:30.395007Z",
     "start_time": "2017-07-16T17:56:15.088871Z"
    },
    "collapsed": false
   },
   "outputs": [],
   "source": [
    "specific_drugs = 0\n",
    "specific_treat = 0\n",
    "generic_med = 0 \n",
    "generic_treat = 0 \n",
    "\n",
    "words = []\n",
    "for x in highest.total_text:\n",
    "    if type(x) != str :\n",
    "        x = x.decode('utf-8')\n",
    "    x = re.sub('http[s]?://(?:[a-zA-Z]|[0-9]|[$-_@.&+]|[!*\\(\\),]|(?:%[0-9a-fA-F][0-9a-fA-F]))+',' ', x)\n",
    "    regex = re.compile('[%s]' % re.escape(string.punctuation))\n",
    "    x = regex.sub('', x)\n",
    "    x = x.lower()\n",
    "    x = x.split(\" \")\n",
    "    try:\n",
    "        lemmatizer = WordNetLemmatizer()\n",
    "        lemmatizer_fun = lambda x: lemmatizer.lemmatize(x, get_wordnet_pos(x))\n",
    "\n",
    "        lemmatizer_fun_outer = lambda x: list(map(lemmatizer_fun, x))\n",
    "        x= generalize_fun(x, lemmatizer_fun_outer)\n",
    "    except:\n",
    "        x = x\n",
    "\n",
    "    for y in x:\n",
    "        words.append(x)\n",
    "words = list(itertools.chain(*words))\n",
    "\n",
    "for x in words:\n",
    "    if x in specific_drug:\n",
    "            specific_drugs += 1\n",
    "    if x in generic_medicine:\n",
    "            generic_med +=1\n",
    "    if x in generic_treatment:  \n",
    "            generic_treat +=1\n",
    "    if x in specific_treatment:  \n",
    "            specific_treat +=1"
   ]
  },
  {
   "cell_type": "code",
   "execution_count": 17,
   "metadata": {
    "ExecuteTime": {
     "end_time": "2017-07-16T18:03:07.550111Z",
     "start_time": "2017-07-16T17:58:30.402282Z"
    },
    "collapsed": true
   },
   "outputs": [],
   "source": [
    "specific_drugs_low = 0\n",
    "specific_treat_low = 0\n",
    "generic_med_low = 0 \n",
    "generic_treat_low = 0 \n",
    "\n",
    "words = []\n",
    "for x in lowest.total_text:\n",
    "    if type(x) != str :\n",
    "        x = x.decode('utf-8')\n",
    "    x = re.sub('http[s]?://(?:[a-zA-Z]|[0-9]|[$-_@.&+]|[!*\\(\\),]|(?:%[0-9a-fA-F][0-9a-fA-F]))+',' ', x)\n",
    "    regex = re.compile('[%s]' % re.escape(string.punctuation))\n",
    "    x = regex.sub('', x)\n",
    "    x = x.lower()\n",
    "    x = x.split(\" \")\n",
    "    try:\n",
    "        lemmatizer = WordNetLemmatizer()\n",
    "        lemmatizer_fun = lambda x: lemmatizer.lemmatize(x, get_wordnet_pos(x))\n",
    "\n",
    "        lemmatizer_fun_outer = lambda x: list(map(lemmatizer_fun, x))\n",
    "        x= generalize_fun(x, lemmatizer_fun_outer)\n",
    "    except:\n",
    "        x = x\n",
    "\n",
    "    for y in x:\n",
    "        words.append(x)\n",
    "words = list(itertools.chain(*words))\n",
    "\n",
    "for x in words:\n",
    "    if x in specific_drug:\n",
    "            specific_drugs_low += 1\n",
    "    if x in generic_medicine:\n",
    "            generic_med_low +=1\n",
    "    if x in generic_treatment:  \n",
    "            generic_treat_low +=1 \n",
    "    if x in specific_treatment:  \n",
    "            specific_treat_low +=1"
   ]
  },
  {
   "cell_type": "code",
   "execution_count": 23,
   "metadata": {
    "ExecuteTime": {
     "end_time": "2017-07-16T18:23:00.844992Z",
     "start_time": "2017-07-16T18:23:00.327587Z"
    },
    "collapsed": false
   },
   "outputs": [
    {
     "data": {
      "text/plain": [
       "(array([      0.,   20000.,   40000.,   60000.,   80000.,  100000.,\n",
       "         120000.,  140000.,  160000.,  180000.]),\n",
       " <a list of 10 Text yticklabel objects>)"
      ]
     },
     "execution_count": 23,
     "metadata": {},
     "output_type": "execute_result"
    },
    {
     "data": {
      "image/png": "[encoded data removed]",
      "text/plain": [
       "<matplotlib.figure.Figure at 0x113b446d8>"
      ]
     },
     "metadata": {},
     "output_type": "display_data"
    }
   ],
   "source": [
    "generic_nongeneric = pd.DataFrame([[specific_treat_low, generic_treat_low, specific_drugs_low, generic_med_low], [specific_treat, generic_treat, specific_drugs, generic_med]], \n",
    "             columns=[\"Non-Gen. Coping\", \"Generic Coping\", \"Specific Med.\", \"Unspecific Med.\"], index=[\"Negative\", \"Positive\"])\n",
    "sns.set_context(\"talk\")\n",
    "plt.style.use('fivethirtyeight')\n",
    "generic_nongeneric.transpose().plot(kind=\"bar\", label={0: \"Negative\", 1: \"Positive\"})\n",
    "plt.legend(fontsize=20)\n",
    "plt.title(\"Difference in Wording between Negative and Positive Submissions\")\n",
    "plt.xticks(fontsize=17, rotation=360)\n",
    "plt.yticks(fontsize=17)"
   ]
  },
  {
   "cell_type": "markdown",
   "metadata": {
    "ExecuteTime": {
     "end_time": "2017-07-16T14:01:51.644584Z",
     "start_time": "2017-07-16T14:01:51.621678Z"
    }
   },
   "source": [
    "There results are quite intesting. Really neagtive posts use way more generic coping and generic drug/medical references then the most positive do. For specific medicine references it is about equal usage, and the most positive posts use almost double the amount of non-generic coping references. What to make of this? It's hard to say. It is possible that the polarity difference might signify depression or anxiety severity or that the more positive posts are people sharing how they got over their disorder or are just farther along in treating it. It is also possible that the more positive posts are representive of people who are very driven to get over their disorder or have certain character traits that cause them to look more at the specifics. Maybe the more negative posts signify that the person is really lost and know they should try things like \"exercise\" or \"antidepressants\" but don't know how to move forward with either of those."
   ]
  },
  {
   "cell_type": "code",
   "execution_count": null,
   "metadata": {
    "collapsed": true
   },
   "outputs": [],
   "source": []
  }
 ],
 "metadata": {
  "kernelspec": {
   "display_name": "Python [conda root]",
   "language": "python",
   "name": "conda-root-py"
  },
  "language_info": {
   "codemirror_mode": {
    "name": "ipython",
    "version": 3
   },
   "file_extension": ".py",
   "mimetype": "text/x-python",
   "name": "python",
   "nbconvert_exporter": "python",
   "pygments_lexer": "ipython3",
   "version": "3.5.2"
  }
 },
 "nbformat": 4,
 "nbformat_minor": 2
}
